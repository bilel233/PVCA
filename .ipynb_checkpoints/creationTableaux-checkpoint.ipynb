{
 "cells": [
  {
   "cell_type": "markdown",
   "id": "f56174a0-408c-43e0-8528-017bc05b6962",
   "metadata": {},
   "source": [
    "# Exercice 1 : creation de tableaux\n",
    "\n"
   ]
  },
  {
   "cell_type": "code",
   "execution_count": 2,
   "id": "038d32c5-9732-4526-a453-05ff00151149",
   "metadata": {},
   "outputs": [
    {
     "name": "stdout",
     "output_type": "stream",
     "text": [
      "tab =  [0 1 2 3 4 5 6 7 8 9]\n"
     ]
    }
   ],
   "source": [
    "import numpy as np\n",
    "\n",
    "tab = np.array([0,1,2,3,4,5,6,7,8,9])\n",
    "\n",
    "print(\"tab = \", tab)"
   ]
  },
  {
   "cell_type": "code",
   "execution_count": 3,
   "id": "6fdb81b0-c2c8-4a8f-a9c0-3d435c80c1f5",
   "metadata": {},
   "outputs": [
    {
     "name": "stdout",
     "output_type": "stream",
     "text": [
      "[[0. 0. 0. 0.]\n",
      " [0. 0. 0. 0.]\n",
      " [0. 0. 0. 0.]]\n"
     ]
    }
   ],
   "source": [
    "tab1 = np.zeros((3,4)) # tableau remplis de zero avec 3 lignes et 4 colonnes\n",
    "\n",
    "print (tab1)\n",
    "\n"
   ]
  },
  {
   "cell_type": "code",
   "execution_count": 4,
   "id": "4048fb2b-4416-4c20-882e-d141e5bc8ef4",
   "metadata": {},
   "outputs": [
    {
     "name": "stdout",
     "output_type": "stream",
     "text": [
      "[[1. 1. 1. 1.]\n",
      " [1. 1. 1. 1.]\n",
      " [1. 1. 1. 1.]]\n"
     ]
    }
   ],
   "source": [
    "tab2 = np.ones((3,4)) # le tableau est rempli de 1 maintenant\n",
    "\n",
    "print(tab2)"
   ]
  },
  {
   "cell_type": "code",
   "execution_count": 5,
   "id": "6f34cb6c-459b-4a1c-a773-672e81e7dff5",
   "metadata": {},
   "outputs": [
    {
     "name": "stdout",
     "output_type": "stream",
     "text": [
      "[[2 2 2 2]\n",
      " [2 2 2 2]\n",
      " [2 2 2 2]]\n"
     ]
    }
   ],
   "source": [
    "tab3 = np.full((3,4),2) # on utilise np.full\n",
    "\n",
    "print(tab3)"
   ]
  },
  {
   "cell_type": "code",
   "execution_count": 6,
   "id": "33287301-9c8b-464c-b3d2-3f4063c12d0a",
   "metadata": {},
   "outputs": [
    {
     "name": "stdout",
     "output_type": "stream",
     "text": [
      "[[0.99367634 0.46851671 0.70321627 0.41993074]\n",
      " [0.56017709 0.46099164 0.1953861  0.04834197]\n",
      " [0.32191427 0.97945301 0.94436732 0.6138638 ]]\n"
     ]
    }
   ],
   "source": [
    "tab4 = np.random.rand(3,4)\n",
    "print(tab4)"
   ]
  },
  {
   "cell_type": "markdown",
   "id": "8b1a1086-a48a-4dbd-abae-2b9d82361830",
   "metadata": {},
   "source": [
    "# Exercice 2 : Somme et moyennes"
   ]
  },
  {
   "cell_type": "code",
   "execution_count": 7,
   "id": "8affd88a-d3bc-49c3-8512-e46b3e96bf5d",
   "metadata": {},
   "outputs": [
    {
     "name": "stdout",
     "output_type": "stream",
     "text": [
      "le tableau contient comme valeur [ 1  2  3  4  5  6  7  8  9 10]\n"
     ]
    }
   ],
   "source": [
    "a = np.arange(1,11)\n",
    "print(\"le tableau contient comme valeur\", a)"
   ]
  },
  {
   "cell_type": "raw",
   "id": "87c30c34-76fb-4dfb-8a4f-3866d17ad516",
   "metadata": {},
   "source": [
    "# on va calculer la somme des elements du tableau\n"
   ]
  },
  {
   "cell_type": "code",
   "execution_count": 8,
   "id": "3ef9db4f-4a83-41c3-8ae5-1d8718f5b2f0",
   "metadata": {},
   "outputs": [
    {
     "name": "stdout",
     "output_type": "stream",
     "text": [
      "la somme des valeurs du tableau est : 55\n"
     ]
    }
   ],
   "source": [
    "s = np.sum(a)\n",
    "\n",
    "print(\"la somme des valeurs du tableau est :\", s)"
   ]
  },
  {
   "cell_type": "code",
   "execution_count": 9,
   "id": "09a1c191-058f-468d-ade8-b2f271d94349",
   "metadata": {},
   "outputs": [],
   "source": [
    "# on calcule maintenant la moyenne du tableau\n"
   ]
  },
  {
   "cell_type": "code",
   "execution_count": 10,
   "id": "e18f490b-10ec-46f0-ad1a-88bd5018a30d",
   "metadata": {},
   "outputs": [
    {
     "name": "stdout",
     "output_type": "stream",
     "text": [
      "la moyenne du tableau est  5.5\n"
     ]
    }
   ],
   "source": [
    "moyenne = np.mean(a)\n",
    "print(\"la moyenne du tableau est \", moyenne)"
   ]
  },
  {
   "cell_type": "code",
   "execution_count": 11,
   "id": "04af2ae4-0dde-4590-ac9a-52ba0ad72553",
   "metadata": {},
   "outputs": [],
   "source": [
    "# pour verifier, on utilise la fonction assert ; cest tout simple\n"
   ]
  },
  {
   "cell_type": "code",
   "execution_count": 12,
   "id": "26dc8967-3607-4a5a-bc9a-91aec2f04256",
   "metadata": {},
   "outputs": [],
   "source": [
    "assert moyenne == (1 + 10)/2"
   ]
  },
  {
   "cell_type": "code",
   "execution_count": 13,
   "id": "1181003b-1ae1-407f-8052-b5a7422eaaac",
   "metadata": {},
   "outputs": [],
   "source": [
    "# on affiche la valeur pour verifier"
   ]
  },
  {
   "cell_type": "code",
   "execution_count": 14,
   "id": "c4e44ead-0cc7-4616-a194-bcf841f76460",
   "metadata": {},
   "outputs": [
    {
     "name": "stdout",
     "output_type": "stream",
     "text": [
      "la valeur est : True\n"
     ]
    }
   ],
   "source": [
    "print(\"la valeur est :\", moyenne == (1+10)/2)"
   ]
  },
  {
   "cell_type": "markdown",
   "id": "70659059-da1c-403d-b0c8-b20745259f0e",
   "metadata": {},
   "source": [
    "# Exercice 3 : Tableaux d'entiers aleatoire"
   ]
  },
  {
   "cell_type": "code",
   "execution_count": 15,
   "id": "a7a0666a-1397-4f6f-93e7-913ef584a6a5",
   "metadata": {},
   "outputs": [],
   "source": [
    "# on va generer des valeurs aleatoire entre 0 et 9 inclus"
   ]
  },
  {
   "cell_type": "code",
   "execution_count": 16,
   "id": "1ac51c2b-9a96-4a86-9576-f4ee5dd6e414",
   "metadata": {},
   "outputs": [
    {
     "name": "stdout",
     "output_type": "stream",
     "text": [
      "les valeurs aleatoire du tableaux sont [[1 9 4 5 8]\n",
      " [5 1 6 3 4]\n",
      " [3 1 8 5 3]\n",
      " [4 6 7 1 7]\n",
      " [8 9 1 6 0]]\n"
     ]
    }
   ],
   "source": [
    "aleatoire = np.random.randint(0,10,size = (5,5))\n",
    "print(\"les valeurs aleatoire du tableaux sont\",aleatoire)"
   ]
  },
  {
   "cell_type": "code",
   "execution_count": 17,
   "id": "be3026f1-b3ab-4b97-b94c-1f047adba9b8",
   "metadata": {},
   "outputs": [],
   "source": [
    "# cherchons la valeur maximale et minimale dans mon tableaux"
   ]
  },
  {
   "cell_type": "code",
   "execution_count": 18,
   "id": "64d77d31-355a-4fc7-b08b-62342331d7d5",
   "metadata": {},
   "outputs": [
    {
     "name": "stdout",
     "output_type": "stream",
     "text": [
      "les valeurs maximales et minimales sont : 9  et  0\n"
     ]
    }
   ],
   "source": [
    "maximum = np.max(aleatoire)\n",
    "minimum = np.min(aleatoire)\n",
    "\n",
    "print(\"les valeurs maximales et minimales sont :\", maximum,\" et \",minimum)"
   ]
  },
  {
   "cell_type": "markdown",
   "id": "b8d97dd4-6ac2-45aa-bac3-110a1f70a5ee",
   "metadata": {},
   "source": [
    "# Exercice 4 :  Matrice identite et traces"
   ]
  },
  {
   "cell_type": "code",
   "execution_count": 19,
   "id": "8a0c56ae-8c84-4232-b867-961b447bc4b2",
   "metadata": {},
   "outputs": [
    {
     "name": "stdout",
     "output_type": "stream",
     "text": [
      "voici la matrice identite : \n",
      " [[1. 0. 0. 0.]\n",
      " [0. 1. 0. 0.]\n",
      " [0. 0. 1. 0.]\n",
      " [0. 0. 0. 1.]]\n"
     ]
    }
   ],
   "source": [
    "# creation de la matric eidentite\n",
    "\n",
    "identite = np.eye(4)\n",
    "print(\"voici la matrice identite : \\n\",identite)"
   ]
  },
  {
   "cell_type": "code",
   "execution_count": 20,
   "id": "35b10bec-ca62-446c-8cd3-311374981cea",
   "metadata": {},
   "outputs": [
    {
     "name": "stdout",
     "output_type": "stream",
     "text": [
      "[[1. 0. 0. 0.]\n",
      " [0. 1. 0. 0.]\n",
      " [0. 0. 1. 0.]\n",
      " [0. 0. 0. 1.]]\n"
     ]
    }
   ],
   "source": [
    "produit = identite @ identite\n",
    "print(produit)"
   ]
  },
  {
   "cell_type": "code",
   "execution_count": 21,
   "id": "47257ff5-47b7-4b16-97ee-2dbb9baf9fea",
   "metadata": {},
   "outputs": [],
   "source": [
    "# on verifie maintenant"
   ]
  },
  {
   "cell_type": "code",
   "execution_count": 22,
   "id": "a4abbf99-e016-4157-b25d-bbcfb365e71b",
   "metadata": {},
   "outputs": [
    {
     "data": {
      "text/plain": [
       "True"
      ]
     },
     "execution_count": 22,
     "metadata": {},
     "output_type": "execute_result"
    }
   ],
   "source": [
    "np.allclose(identite,produit)"
   ]
  },
  {
   "cell_type": "code",
   "execution_count": 23,
   "id": "56a86ca5-3422-4182-ac56-5b3ab9a13db0",
   "metadata": {},
   "outputs": [
    {
     "name": "stdout",
     "output_type": "stream",
     "text": [
      "True\n"
     ]
    }
   ],
   "source": [
    "# on va afficher le resultat ensuite\n",
    "\n",
    "print(np.allclose(identite,produit))"
   ]
  },
  {
   "cell_type": "code",
   "execution_count": 24,
   "id": "419aa6f6-c12b-46fd-a498-60c93204597c",
   "metadata": {},
   "outputs": [],
   "source": [
    "# on calcule la trace de la matrice I"
   ]
  },
  {
   "cell_type": "code",
   "execution_count": 25,
   "id": "db9b25ac-090c-4eab-bd02-7318510a8393",
   "metadata": {},
   "outputs": [],
   "source": [
    "trace_identite = np.trace(identite)"
   ]
  },
  {
   "cell_type": "code",
   "execution_count": 26,
   "id": "b9238604-b27f-4965-8ea9-c590907f00af",
   "metadata": {},
   "outputs": [
    {
     "name": "stdout",
     "output_type": "stream",
     "text": [
      "comme s'est la somme de la trace, dans ce cas, c'est 4 :  4.0\n"
     ]
    }
   ],
   "source": [
    "# on affiche la valeur de la trace\n",
    "print(\"comme s'est la somme de la trace, dans ce cas, c'est 4 : \", trace_identite)"
   ]
  },
  {
   "cell_type": "markdown",
   "id": "65991a0a-e526-44bf-83fb-3ab24c6cd89c",
   "metadata": {},
   "source": [
    "# Exercice 5 - Sommes et moyenes - bis"
   ]
  },
  {
   "cell_type": "code",
   "execution_count": 27,
   "id": "f8610526-772e-4663-bed8-1edd3a656665",
   "metadata": {},
   "outputs": [
    {
     "name": "stdout",
     "output_type": "stream",
     "text": [
      "le tableau a pour valeur :  [ 1  2  3  4  5  6  7  8  9 10]\n"
     ]
    }
   ],
   "source": [
    "# creons un tableaux\n",
    "\n",
    "a = np.arange(1,11)\n",
    "print(\"le tableau a pour valeur : \",a)"
   ]
  },
  {
   "cell_type": "code",
   "execution_count": 28,
   "id": "68207ac9-881e-498d-b4d8-ba59b9b95763",
   "metadata": {},
   "outputs": [],
   "source": [
    "# calculons la somme du tableau\n"
   ]
  },
  {
   "cell_type": "code",
   "execution_count": 29,
   "id": "0086cd7b-0eed-41a8-ba07-cbec3547597e",
   "metadata": {},
   "outputs": [
    {
     "name": "stdout",
     "output_type": "stream",
     "text": [
      "la somme du tableau vaut :  55\n"
     ]
    }
   ],
   "source": [
    "somme = np.sum(a)\n",
    "print(\"la somme du tableau vaut : \", somme)"
   ]
  },
  {
   "cell_type": "code",
   "execution_count": 30,
   "id": "b1128032-6da1-4cc4-b0d5-f3d4eba6b4fe",
   "metadata": {},
   "outputs": [],
   "source": [
    "# calcule de la moyenne du tableau\n"
   ]
  },
  {
   "cell_type": "code",
   "execution_count": 31,
   "id": "fe6cac43-7858-484a-b7ed-c5b9426afc4a",
   "metadata": {},
   "outputs": [
    {
     "name": "stdout",
     "output_type": "stream",
     "text": [
      "la moyenne vaut :  5.5\n"
     ]
    }
   ],
   "source": [
    "moyenne = np.mean(a)\n",
    "print(\"la moyenne vaut : \",moyenne)"
   ]
  },
  {
   "cell_type": "code",
   "execution_count": 32,
   "id": "18224e3e-168f-4d46-878c-f3f5b37c4254",
   "metadata": {},
   "outputs": [],
   "source": [
    "# pour verifier, on utilise assert\n"
   ]
  },
  {
   "cell_type": "code",
   "execution_count": 33,
   "id": "54154f31-ee94-4b50-867d-83f99c39a662",
   "metadata": {},
   "outputs": [],
   "source": [
    "assert moyenne == (1 + 10)/2"
   ]
  },
  {
   "cell_type": "code",
   "execution_count": 34,
   "id": "ef584a54-20af-4cf0-a5a4-eb2311bd7014",
   "metadata": {},
   "outputs": [
    {
     "name": "stdout",
     "output_type": "stream",
     "text": [
      "True\n"
     ]
    }
   ],
   "source": [
    "print(moyenne == (1 + 10)/2)"
   ]
  },
  {
   "cell_type": "markdown",
   "id": "3a3e8f32-6a42-436f-a175-b9bc2b7f43eb",
   "metadata": {},
   "source": [
    "# Exercice 6 - Reshape et copie"
   ]
  },
  {
   "cell_type": "code",
   "execution_count": 35,
   "id": "34963768-92a2-4e16-8f9b-df2c24e3d639",
   "metadata": {},
   "outputs": [
    {
     "name": "stdout",
     "output_type": "stream",
     "text": [
      "[ 0  1  2  3  4  5  6  7  8  9 10 11]\n"
     ]
    }
   ],
   "source": [
    "v = np.arange(12)\n",
    "print(v)"
   ]
  },
  {
   "cell_type": "code",
   "execution_count": 36,
   "id": "294be621-6ac5-4781-a12b-ca51e9d61adf",
   "metadata": {},
   "outputs": [
    {
     "name": "stdout",
     "output_type": "stream",
     "text": [
      "[[ 0  1  2  3]\n",
      " [ 4  5  6  7]\n",
      " [ 8  9 10 11]]\n"
     ]
    }
   ],
   "source": [
    "m = v.reshape((3,4))\n",
    "print(m)"
   ]
  },
  {
   "cell_type": "code",
   "execution_count": 37,
   "id": "2b5c93f4-6731-4b89-a7f1-0b5842b5d41d",
   "metadata": {},
   "outputs": [],
   "source": [
    "# on modifie m(0,0)\n",
    "\n",
    "m[0,0] = 99"
   ]
  },
  {
   "cell_type": "code",
   "execution_count": 38,
   "id": "15071857-c0ff-4d5c-bac8-ffe17afa4190",
   "metadata": {},
   "outputs": [
    {
     "name": "stdout",
     "output_type": "stream",
     "text": [
      "la valeur de m est  [[99  1  2  3]\n",
      " [ 4  5  6  7]\n",
      " [ 8  9 10 11]]\n",
      "\n",
      "la valeur de v est  [99  1  2  3  4  5  6  7  8  9 10 11]\n"
     ]
    }
   ],
   "source": [
    "print(\"la valeur de m est \", m)\n",
    "print()\n",
    "print(\"la valeur de v est \",v)"
   ]
  },
  {
   "cell_type": "code",
   "execution_count": 39,
   "id": "84feaa42-9143-442a-ac1b-151d68b8f602",
   "metadata": {},
   "outputs": [],
   "source": [
    "# on utilise cette fois ci : reshape.copy()\n",
    "\n"
   ]
  },
  {
   "cell_type": "code",
   "execution_count": 40,
   "id": "4c8d3327-b4a6-4334-83bb-a9c1a3d34a0d",
   "metadata": {},
   "outputs": [
    {
     "name": "stdout",
     "output_type": "stream",
     "text": [
      "[[99  1  2  3]\n",
      " [ 4  5  6  7]\n",
      " [ 8  9 10 11]]\n"
     ]
    }
   ],
   "source": [
    "m = v.reshape(3,4).copy()\n",
    "print(m)"
   ]
  },
  {
   "cell_type": "code",
   "execution_count": 41,
   "id": "0d668eb3-95a7-4e88-acdb-2037352088fe",
   "metadata": {},
   "outputs": [
    {
     "name": "stdout",
     "output_type": "stream",
     "text": [
      "[[42  1  2  3]\n",
      " [ 4  5  6  7]\n",
      " [ 8  9 10 11]]\n",
      "\n",
      "[99  1  2  3  4  5  6  7  8  9 10 11]\n"
     ]
    }
   ],
   "source": [
    "m[0,0] = 42\n",
    "print(m)\n",
    "print()\n",
    "print(v)"
   ]
  },
  {
   "cell_type": "markdown",
   "id": "b40e3795-bd72-4e12-9945-0f0b1f1dc4e9",
   "metadata": {},
   "source": [
    "# Exercice 7 - Tableaux d'entiers aleatoire"
   ]
  },
  {
   "cell_type": "code",
   "execution_count": 42,
   "id": "edad1b7d-74d4-4485-ad95-ff56462be598",
   "metadata": {},
   "outputs": [],
   "source": [
    "# premiere question"
   ]
  },
  {
   "cell_type": "code",
   "execution_count": 43,
   "id": "a1066903-c7c6-48d5-a52b-8b88480c1476",
   "metadata": {},
   "outputs": [
    {
     "name": "stdout",
     "output_type": "stream",
     "text": [
      "la valeur du tableau est [[5 3 3 0 7]\n",
      " [0 7 8 2 6]\n",
      " [1 8 3 7 8]\n",
      " [3 6 3 6 2]\n",
      " [1 8 3 1 4]]\n"
     ]
    }
   ],
   "source": [
    "b = np.random.randint(0,9,size = (5,5))\n",
    "print(\"la valeur du tableau est\",b)"
   ]
  },
  {
   "cell_type": "code",
   "execution_count": 44,
   "id": "44834e2f-0901-4794-ad0c-20e1ca9314fa",
   "metadata": {},
   "outputs": [
    {
     "name": "stdout",
     "output_type": "stream",
     "text": [
      "la valeur maximale et minimale respectivement sont :  8  et  0\n"
     ]
    }
   ],
   "source": [
    "maximum = np.max(b)\n",
    "minimum = np.min(b)\n",
    "print(\"la valeur maximale et minimale respectivement sont : \", maximum,\" et \", minimum)"
   ]
  },
  {
   "cell_type": "markdown",
   "id": "e99047fa-8965-46de-a8fc-dcdecb60cbe1",
   "metadata": {},
   "source": [
    "# Exercice 8 - Matrice identite et trace"
   ]
  },
  {
   "cell_type": "code",
   "execution_count": 45,
   "id": "249ad1ef-e07d-4f17-94bf-d49c448c701d",
   "metadata": {},
   "outputs": [],
   "source": [
    "# on va creer la matrice identite"
   ]
  },
  {
   "cell_type": "code",
   "execution_count": 46,
   "id": "13ca2be0-f158-425c-826a-477d11494565",
   "metadata": {},
   "outputs": [
    {
     "name": "stdout",
     "output_type": "stream",
     "text": [
      "la matrice identite est :  [[1. 0. 0. 0.]\n",
      " [0. 1. 0. 0.]\n",
      " [0. 0. 1. 0.]\n",
      " [0. 0. 0. 1.]]\n"
     ]
    }
   ],
   "source": [
    "identite = np.eye(4)\n",
    "print(\"la matrice identite est : \",identite)"
   ]
  },
  {
   "cell_type": "code",
   "execution_count": 47,
   "id": "ec27b769-8745-4e3b-822d-a3bc383c7bb0",
   "metadata": {},
   "outputs": [
    {
     "name": "stdout",
     "output_type": "stream",
     "text": [
      "[[1. 0. 0. 0.]\n",
      " [0. 1. 0. 0.]\n",
      " [0. 0. 1. 0.]\n",
      " [0. 0. 0. 1.]]\n"
     ]
    }
   ],
   "source": [
    "produit = identite @ identite\n",
    "\n",
    "print(produit)"
   ]
  },
  {
   "cell_type": "code",
   "execution_count": 48,
   "id": "ef95c0bf-e10a-4204-a444-ce9f6c058d70",
   "metadata": {},
   "outputs": [
    {
     "name": "stdout",
     "output_type": "stream",
     "text": [
      "la trace vaut :  4.0\n"
     ]
    }
   ],
   "source": [
    "# enfin on calcule la trace de la matrice identite\n",
    "\n",
    "trace = np.trace(identite)\n",
    "print(\"la trace vaut : \",trace)"
   ]
  },
  {
   "cell_type": "markdown",
   "id": "53fd23a7-e911-4418-965d-260032394b62",
   "metadata": {},
   "source": [
    "# Exercice 9 - Operations elementaires"
   ]
  },
  {
   "cell_type": "code",
   "execution_count": 49,
   "id": "a4102e66-f049-4e05-8453-40913e1b7071",
   "metadata": {},
   "outputs": [],
   "source": [
    "# on cree deux tableaux ."
   ]
  },
  {
   "cell_type": "code",
   "execution_count": 50,
   "id": "329c6971-4829-4a69-a2cf-f54c8c2f8f58",
   "metadata": {},
   "outputs": [
    {
     "name": "stdout",
     "output_type": "stream",
     "text": [
      "Voici le tableau x  [1 2 3 4 5]\n",
      "Voici le tableau y  [10 20 30 40 50]\n"
     ]
    }
   ],
   "source": [
    "x = np.array([1,2,3,4,5])\n",
    "y = np.array([10,20,30,40,50])\n",
    "\n",
    "print(\"Voici le tableau x \", x)\n",
    "print(\"Voici le tableau y \", y)"
   ]
  },
  {
   "cell_type": "code",
   "execution_count": 51,
   "id": "c0ee2d50-0f8a-4f62-ad3e-f7513bbb9ac2",
   "metadata": {},
   "outputs": [],
   "source": [
    "# on realise les calculs elementaires"
   ]
  },
  {
   "cell_type": "code",
   "execution_count": 52,
   "id": "b1a89d06-ad50-4543-9d9f-9412346bce47",
   "metadata": {},
   "outputs": [
    {
     "name": "stdout",
     "output_type": "stream",
     "text": [
      "[11 22 33 44 55]\n"
     ]
    }
   ],
   "source": [
    "addition = x + y\n",
    "print(addition)"
   ]
  },
  {
   "cell_type": "code",
   "execution_count": 53,
   "id": "35faf6b2-9207-4444-be25-926ad19bbdc7",
   "metadata": {},
   "outputs": [],
   "source": [
    "# go pour la soustraction\n"
   ]
  },
  {
   "cell_type": "code",
   "execution_count": 54,
   "id": "18b25078-3d19-4477-8465-7149d38f9548",
   "metadata": {},
   "outputs": [
    {
     "name": "stdout",
     "output_type": "stream",
     "text": [
      "la soustraction donne  [ 9 18 27 36 45]\n"
     ]
    }
   ],
   "source": [
    "soustraction = y - x\n",
    "print(\"la soustraction donne \",soustraction)  # sa renvoie un tableau"
   ]
  },
  {
   "cell_type": "code",
   "execution_count": 55,
   "id": "67ab99e0-8930-44ab-93b8-772417b01345",
   "metadata": {},
   "outputs": [],
   "source": [
    "# go pour la multiplication element par element."
   ]
  },
  {
   "cell_type": "code",
   "execution_count": 56,
   "id": "b9b0241e-8639-45a3-aaa4-79a4cbd09162",
   "metadata": {},
   "outputs": [
    {
     "name": "stdout",
     "output_type": "stream",
     "text": [
      "la multiplication element par element donne un tableau :  [ 10  40  90 160 250]\n"
     ]
    }
   ],
   "source": [
    "multiplication = x * y\n",
    "print(\"la multiplication element par element donne un tableau : \", multiplication)"
   ]
  },
  {
   "cell_type": "code",
   "execution_count": 57,
   "id": "e76ae4db-b2cc-4425-a47b-0070d6511da6",
   "metadata": {},
   "outputs": [],
   "source": [
    "# et enfin la division"
   ]
  },
  {
   "cell_type": "code",
   "execution_count": 58,
   "id": "34dbb41b-c5dc-4b58-bdbe-03e584c678bd",
   "metadata": {},
   "outputs": [
    {
     "name": "stdout",
     "output_type": "stream",
     "text": [
      "[0.1 0.1 0.1 0.1 0.1] cest mon tableau\n"
     ]
    }
   ],
   "source": [
    "division = x / y\n",
    "print(division, \"cest mon tableau\")"
   ]
  },
  {
   "cell_type": "code",
   "execution_count": 59,
   "id": "789ba544-150e-4ed2-b514-c409432cec6e",
   "metadata": {},
   "outputs": [],
   "source": [
    "# testons la division euclidienne"
   ]
  },
  {
   "cell_type": "code",
   "execution_count": 60,
   "id": "589ebc70-8510-4e53-84d1-b5a62197b084",
   "metadata": {},
   "outputs": [
    {
     "name": "stdout",
     "output_type": "stream",
     "text": [
      "[0 0 0 0 0]\n"
     ]
    }
   ],
   "source": [
    "division_euclidienne = x // y\n",
    "print(division_euclidienne)"
   ]
  },
  {
   "cell_type": "code",
   "execution_count": 61,
   "id": "2d5126f3-ea93-442e-be06-42e6d4a92dfe",
   "metadata": {},
   "outputs": [],
   "source": [
    "# la racine carree maintenant"
   ]
  },
  {
   "cell_type": "code",
   "execution_count": 62,
   "id": "03eda2cc-9e79-4bc6-8c76-be60af5ae8dc",
   "metadata": {},
   "outputs": [
    {
     "name": "stdout",
     "output_type": "stream",
     "text": [
      "[3.16227766 4.47213595 5.47722558 6.32455532 7.07106781]\n"
     ]
    }
   ],
   "source": [
    "sqrt_tab = np.sqrt(y)\n",
    "print(sqrt_tab) # sa marche"
   ]
  },
  {
   "cell_type": "markdown",
   "id": "83e27661-e19f-4851-903c-dcb174b2651b",
   "metadata": {},
   "source": [
    "# Exercice 10 - Indexation avancee"
   ]
  },
  {
   "cell_type": "code",
   "execution_count": 63,
   "id": "ba7e14c1-59b5-4f25-9bb8-c49c94b7c113",
   "metadata": {},
   "outputs": [],
   "source": [
    "# cest parti"
   ]
  },
  {
   "cell_type": "code",
   "execution_count": 64,
   "id": "d5583205-be0c-4bfe-927f-7b4349dbd9d5",
   "metadata": {},
   "outputs": [],
   "source": [
    "m = np.arange(1,17).reshape(4,4)"
   ]
  },
  {
   "cell_type": "code",
   "execution_count": 65,
   "id": "7572ee50-2613-4360-a8b8-36fe6539e559",
   "metadata": {},
   "outputs": [
    {
     "name": "stdout",
     "output_type": "stream",
     "text": [
      "on affiche notre tableau [[ 1  2  3  4]\n",
      " [ 5  6  7  8]\n",
      " [ 9 10 11 12]\n",
      " [13 14 15 16]]\n"
     ]
    }
   ],
   "source": [
    "print(\"on affiche notre tableau\",m)"
   ]
  },
  {
   "cell_type": "code",
   "execution_count": 66,
   "id": "bd9dcd02-1875-4254-8911-738a25a227d0",
   "metadata": {},
   "outputs": [],
   "source": [
    "# on cree deux tableaux d'indices"
   ]
  },
  {
   "cell_type": "code",
   "execution_count": 67,
   "id": "2a28c65c-c8e6-4d8d-9f16-5c0ccf18c416",
   "metadata": {},
   "outputs": [
    {
     "name": "stdout",
     "output_type": "stream",
     "text": [
      "ligne =  [0 1 2 3] colonne =  [1 2 3 0]\n"
     ]
    }
   ],
   "source": [
    "ligne = np.array([0,1,2,3])\n",
    "colonne = np.array([1,2,3,0])\n",
    "print(\"ligne = \",ligne,\"colonne = \",colonne)"
   ]
  },
  {
   "cell_type": "code",
   "execution_count": 68,
   "id": "1ee8d63e-cc8c-4ee9-ba32-3121923931f2",
   "metadata": {},
   "outputs": [],
   "source": [
    "indice_selectiones = m[ligne,colonne]"
   ]
  },
  {
   "cell_type": "code",
   "execution_count": 69,
   "id": "7f0e2bc3-de85-4c72-9de2-bc995395ee07",
   "metadata": {},
   "outputs": [
    {
     "name": "stdout",
     "output_type": "stream",
     "text": [
      "[ 2  7 12 13]\n"
     ]
    }
   ],
   "source": [
    "print(indice_selectiones)"
   ]
  },
  {
   "cell_type": "code",
   "execution_count": 70,
   "id": "7bb5c2fa-a11d-4edb-9b21-5db9feb35d1d",
   "metadata": {},
   "outputs": [],
   "source": [
    "# le fancy indexing"
   ]
  },
  {
   "cell_type": "code",
   "execution_count": 71,
   "id": "eb7a90c2-ddcd-4ca7-b452-721cb6140270",
   "metadata": {},
   "outputs": [
    {
     "name": "stdout",
     "output_type": "stream",
     "text": [
      "les elements du tableaux sont :  [ 5 10 15 20 25]\n"
     ]
    }
   ],
   "source": [
    "v = np.array([5,10,15,20,25])\n",
    "\n",
    "print(\"les elements du tableaux sont : \",v)"
   ]
  },
  {
   "cell_type": "code",
   "execution_count": 72,
   "id": "a7dfe3d5-0439-48dc-9f58-b28a44b09744",
   "metadata": {},
   "outputs": [
    {
     "name": "stdout",
     "output_type": "stream",
     "text": [
      "le sindices du tableaux :  [0 2 4]\n"
     ]
    }
   ],
   "source": [
    "indice_tab = np.array([0,2,4])\n",
    "print(\"le sindices du tableaux : \",indice_tab)"
   ]
  },
  {
   "cell_type": "code",
   "execution_count": 73,
   "id": "e710bef5-f71e-4732-82d9-382c3a0019dd",
   "metadata": {},
   "outputs": [
    {
     "name": "stdout",
     "output_type": "stream",
     "text": [
      "on recupere les elements qu on souhaite [ 5 15 25]\n"
     ]
    }
   ],
   "source": [
    "new_tab = v[indice_tab]\n",
    "print(\"on recupere les elements qu on souhaite\", new_tab)"
   ]
  },
  {
   "cell_type": "markdown",
   "id": "ad43d33b-0cfe-4d4b-8133-a116461c4b67",
   "metadata": {},
   "source": [
    "# Exercice 11 - Operation elementaires (Bis)"
   ]
  },
  {
   "cell_type": "code",
   "execution_count": 74,
   "id": "4da28694-038e-46ed-a1b7-da0e5ef7825a",
   "metadata": {},
   "outputs": [],
   "source": [
    "x = np.array([1,2,3,4,5])\n",
    "y = np.array([10,20,30,40,50])"
   ]
  },
  {
   "cell_type": "code",
   "execution_count": 75,
   "id": "69e839ab-e795-4cfe-9f4d-83d76ea54409",
   "metadata": {},
   "outputs": [],
   "source": [
    "# on effectue les calculs elementaires"
   ]
  },
  {
   "cell_type": "code",
   "execution_count": 76,
   "id": "be93a4f6-ad7b-4137-88e7-ea04553b9564",
   "metadata": {},
   "outputs": [
    {
     "name": "stdout",
     "output_type": "stream",
     "text": [
      "[11 22 33 44 55]\n"
     ]
    }
   ],
   "source": [
    "somme = x + y\n",
    "print(somme)"
   ]
  },
  {
   "cell_type": "code",
   "execution_count": 77,
   "id": "dbdb3881-0d05-4c7e-bfed-c603ef95c8f1",
   "metadata": {},
   "outputs": [],
   "source": [
    "# la soustraction maintenant\n",
    "\n"
   ]
  },
  {
   "cell_type": "code",
   "execution_count": 78,
   "id": "1827bcda-cd11-404d-9993-3f0e76ab314a",
   "metadata": {},
   "outputs": [
    {
     "name": "stdout",
     "output_type": "stream",
     "text": [
      "la soustraction element par element vaut [ 9 18 27 36 45]\n"
     ]
    }
   ],
   "source": [
    "soustraction = y - x\n",
    "print(\"la soustraction element par element vaut\", soustraction)"
   ]
  },
  {
   "cell_type": "code",
   "execution_count": 79,
   "id": "5734e834-879a-4421-82f8-342a92c52859",
   "metadata": {},
   "outputs": [],
   "source": [
    "# le produit maintenant"
   ]
  },
  {
   "cell_type": "code",
   "execution_count": 80,
   "id": "0523f188-feb0-4613-88d7-b96840b1fc87",
   "metadata": {},
   "outputs": [
    {
     "name": "stdout",
     "output_type": "stream",
     "text": [
      "le produit element par element vaut [ 10  40  90 160 250]\n"
     ]
    }
   ],
   "source": [
    "produit = x * y\n",
    "print(\"le produit element par element vaut\", produit)"
   ]
  },
  {
   "cell_type": "code",
   "execution_count": 81,
   "id": "dd359996-6f11-460e-875e-54f2048ea585",
   "metadata": {},
   "outputs": [],
   "source": [
    "# maintenant la division par reelle\n"
   ]
  },
  {
   "cell_type": "code",
   "execution_count": 82,
   "id": "7fa20bd4-a29a-46bc-b0ce-bbdbc29deafa",
   "metadata": {},
   "outputs": [
    {
     "name": "stdout",
     "output_type": "stream",
     "text": [
      "[0.1 0.1 0.1 0.1 0.1]\n"
     ]
    }
   ],
   "source": [
    "division = x / y\n",
    "print(division)"
   ]
  },
  {
   "cell_type": "code",
   "execution_count": 83,
   "id": "5c2f12ee-7e92-485b-aebc-386cd8487f82",
   "metadata": {},
   "outputs": [],
   "source": [
    "# la racine carree maintenant"
   ]
  },
  {
   "cell_type": "code",
   "execution_count": 84,
   "id": "31f3ed2e-0012-4848-803a-4f4dfcfe00f4",
   "metadata": {},
   "outputs": [
    {
     "name": "stdout",
     "output_type": "stream",
     "text": [
      "[3.16227766 4.47213595 5.47722558 6.32455532 7.07106781]\n"
     ]
    }
   ],
   "source": [
    "racine_caree = np.sqrt(y)\n",
    "print(racine_caree)"
   ]
  },
  {
   "cell_type": "markdown",
   "id": "523ed46a-b83d-41c1-8db6-68865c703e37",
   "metadata": {},
   "source": [
    "# Exercice 12 - Masques et statistiques conditionelles"
   ]
  },
  {
   "cell_type": "code",
   "execution_count": 85,
   "id": "0a4ee13f-bce1-4c83-a4d7-6ebc406e5c95",
   "metadata": {},
   "outputs": [],
   "source": [
    "# creation du tableau"
   ]
  },
  {
   "cell_type": "code",
   "execution_count": 86,
   "id": "fbca4592-8900-4b15-86c1-ce8f8b1ceb7b",
   "metadata": {},
   "outputs": [
    {
     "name": "stdout",
     "output_type": "stream",
     "text": [
      "le tableau data contient comme valeur :  [ 73  25  16  86  47  28  71   9  46   0  47  72  62  42  50  38  51  93\n",
      "  54  95  95  86  36  81  38  51  69  92  23  16  15  66   6  55  18  76\n",
      "  18  39  80  16  29   2  97  32  87 100  90   5  85  23  17  58  69  52\n",
      "  69  98  37  39  53  20  67  21  33  10  89  28  83  94   0  87   6  75\n",
      "  62  95  53  48  32  49  75  40  70  64   5   7  57  38  60  70  20  78\n",
      "  44  48  90  53  99  53  77  32  44  21]\n"
     ]
    }
   ],
   "source": [
    "data = np.random.randint(0,101, size = 100)\n",
    "\n",
    "print(\"le tableau data contient comme valeur : \",data)"
   ]
  },
  {
   "cell_type": "code",
   "execution_count": 87,
   "id": "9beece50-7b07-4bf4-9202-de8b252f87a1",
   "metadata": {},
   "outputs": [],
   "source": [
    "# on cree un masque pour reperer les valeurs > 70"
   ]
  },
  {
   "cell_type": "code",
   "execution_count": 88,
   "id": "3098e96c-02f5-43f3-a76a-b99780f048c3",
   "metadata": {},
   "outputs": [
    {
     "name": "stdout",
     "output_type": "stream",
     "text": [
      "[ True False False  True False False  True False False False False  True\n",
      " False False False False False  True False  True  True  True False  True\n",
      " False False False  True False False False False False False False  True\n",
      " False False  True False False False  True False  True  True  True False\n",
      "  True False False False False False False  True False False False False\n",
      " False False False False  True False  True  True False  True False  True\n",
      " False  True False False False False  True False False False False False\n",
      " False False False False False  True False False  True False  True False\n",
      "  True False False False]\n"
     ]
    }
   ],
   "source": [
    "mask = data > 70\n",
    "print(mask)"
   ]
  },
  {
   "cell_type": "code",
   "execution_count": 89,
   "id": "aaa94442-403b-400b-9649-272d9f14f8c6",
   "metadata": {},
   "outputs": [],
   "source": [
    "# on extrait les valeurs"
   ]
  },
  {
   "cell_type": "code",
   "execution_count": 90,
   "id": "9c7bba99-357a-4c8d-87a1-56730b6dce6e",
   "metadata": {},
   "outputs": [
    {
     "name": "stdout",
     "output_type": "stream",
     "text": [
      "voici les valeurs :  [ 73  86  71  72  93  95  95  86  81  92  76  80  97  87 100  90  85  98\n",
      "  89  83  94  87  75  95  75  78  90  99  77]\n"
     ]
    }
   ],
   "source": [
    "hight_val = data[mask]\n",
    "print(\"voici les valeurs : \",hight_val)"
   ]
  },
  {
   "cell_type": "code",
   "execution_count": 91,
   "id": "b2ac8d61-54e9-404d-ba7d-1e355efbcd55",
   "metadata": {},
   "outputs": [],
   "source": [
    "# on calcule la moyenne et l'ecart type"
   ]
  },
  {
   "cell_type": "code",
   "execution_count": 92,
   "id": "af5c61c7-314c-4c9d-9dec-e08226424be1",
   "metadata": {},
   "outputs": [
    {
     "name": "stdout",
     "output_type": "stream",
     "text": [
      "86.17241379310344\n"
     ]
    }
   ],
   "source": [
    "moyenne = np.mean(hight_val)\n",
    "print(moyenne)"
   ]
  },
  {
   "cell_type": "code",
   "execution_count": 93,
   "id": "298fb3c4-2299-4c21-a810-be97bad73e1c",
   "metadata": {},
   "outputs": [
    {
     "name": "stdout",
     "output_type": "stream",
     "text": [
      "8.733877621740179\n"
     ]
    }
   ],
   "source": [
    "ecart_type = np.std(hight_val)\n",
    "print(ecart_type)"
   ]
  },
  {
   "cell_type": "code",
   "execution_count": 94,
   "id": "08f47621-6d78-4409-a380-c5c2629de04f",
   "metadata": {},
   "outputs": [],
   "source": [
    "# derniere question"
   ]
  },
  {
   "cell_type": "code",
   "execution_count": 95,
   "id": "de720ee7-4eb9-4dc1-8711-c331d595b28f",
   "metadata": {},
   "outputs": [
    {
     "name": "stdout",
     "output_type": "stream",
     "text": [
      "cpt =  29\n"
     ]
    }
   ],
   "source": [
    "cpt = mask.sum()\n",
    "print(\"cpt = \",cpt)\n"
   ]
  },
  {
   "cell_type": "code",
   "execution_count": 96,
   "id": "b1d8eae4-464a-4510-8180-a58011fa81bc",
   "metadata": {},
   "outputs": [
    {
     "name": "stdout",
     "output_type": "stream",
     "text": [
      "on a le pourcentage  [1. 0. 0. 1. 0. 0. 1. 0. 0. 0. 0. 1. 0. 0. 0. 0. 0. 1. 0. 1. 1. 1. 0. 1.\n",
      " 0. 0. 0. 1. 0. 0. 0. 0. 0. 0. 0. 1. 0. 0. 1. 0. 0. 0. 1. 0. 1. 1. 1. 0.\n",
      " 1. 0. 0. 0. 0. 0. 0. 1. 0. 0. 0. 0. 0. 0. 0. 0. 1. 0. 1. 1. 0. 1. 0. 1.\n",
      " 0. 1. 0. 0. 0. 0. 1. 0. 0. 0. 0. 0. 0. 0. 0. 0. 0. 1. 0. 0. 1. 0. 1. 0.\n",
      " 1. 0. 0. 0.]\n"
     ]
    }
   ],
   "source": [
    "pourcentage = mask/data.size*100\n",
    "print(\"on a le pourcentage \", pourcentage)"
   ]
  },
  {
   "cell_type": "markdown",
   "id": "d62093e4-50de-4002-8f06-b13f977f92cc",
   "metadata": {},
   "source": [
    "# Exercice 13 - Transposition et broadcasting"
   ]
  },
  {
   "cell_type": "code",
   "execution_count": 97,
   "id": "6ed52b18-9b3b-4408-9e97-633bd6946a2d",
   "metadata": {},
   "outputs": [],
   "source": [
    "# on cree la matrice de valeurs aleatoire"
   ]
  },
  {
   "cell_type": "code",
   "execution_count": 98,
   "id": "2794f78a-8b96-4147-8461-d77188cc3b9b",
   "metadata": {},
   "outputs": [
    {
     "name": "stdout",
     "output_type": "stream",
     "text": [
      "[[0.53048714 0.25965358 0.95888208]\n",
      " [0.75621907 0.12083776 0.99531789]\n",
      " [0.66073901 0.88046636 0.29420992]\n",
      " [0.47191875 0.59395995 0.57057032]]\n"
     ]
    }
   ],
   "source": [
    "m = np.random.rand(4,3)\n",
    "print(m)"
   ]
  },
  {
   "cell_type": "code",
   "execution_count": 99,
   "id": "78acd9cc-3d61-4a21-a4ac-03e07ec96cb8",
   "metadata": {},
   "outputs": [],
   "source": [
    "# creation du vecteur ligne"
   ]
  },
  {
   "cell_type": "code",
   "execution_count": 100,
   "id": "cbb4e0b5-b6ac-4f27-a36b-6fc4b71491b3",
   "metadata": {},
   "outputs": [
    {
     "name": "stdout",
     "output_type": "stream",
     "text": [
      "[10 10 10 10]\n"
     ]
    }
   ],
   "source": [
    "v = np.full(4,10)\n",
    "print(v)"
   ]
  },
  {
   "cell_type": "code",
   "execution_count": 101,
   "id": "ae1a26e0-159d-4a72-9817-2bdfa4b95dd0",
   "metadata": {},
   "outputs": [],
   "source": [
    "# transposse la matrice"
   ]
  },
  {
   "cell_type": "code",
   "execution_count": 102,
   "id": "91f0867c-8237-4151-96b5-53f0e4dd6e03",
   "metadata": {},
   "outputs": [
    {
     "name": "stdout",
     "output_type": "stream",
     "text": [
      "voici la matrice transposee [[0.53048714 0.75621907 0.66073901 0.47191875]\n",
      " [0.25965358 0.12083776 0.88046636 0.59395995]\n",
      " [0.95888208 0.99531789 0.29420992 0.57057032]]\n"
     ]
    }
   ],
   "source": [
    "transposee = m.T\n",
    "print(\"voici la matrice transposee\", transposee)"
   ]
  },
  {
   "cell_type": "code",
   "execution_count": 103,
   "id": "d3916c62-7d08-493d-afce-924c164e21a5",
   "metadata": {},
   "outputs": [],
   "source": [
    "# on utilise le broadcasting d enumpy"
   ]
  },
  {
   "cell_type": "code",
   "execution_count": 104,
   "id": "1d916104-632e-4811-a80f-bbb1477d734b",
   "metadata": {},
   "outputs": [
    {
     "name": "stdout",
     "output_type": "stream",
     "text": [
      "[[10.53048714 10.75621907 10.66073901 10.47191875]\n",
      " [10.25965358 10.12083776 10.88046636 10.59395995]\n",
      " [10.95888208 10.99531789 10.29420992 10.57057032]]\n"
     ]
    }
   ],
   "source": [
    "b = transposee + v\n",
    "print(b)"
   ]
  },
  {
   "cell_type": "code",
   "execution_count": 105,
   "id": "1deb3697-b905-462e-95f2-d6861ec4f608",
   "metadata": {},
   "outputs": [
    {
     "name": "stdout",
     "output_type": "stream",
     "text": [
      "[[10. 10. 10. 10.]\n",
      " [10. 10. 10. 10.]\n",
      " [10. 10. 10. 10.]]\n"
     ]
    }
   ],
   "source": [
    "difference = b - transposee\n",
    "print(difference)"
   ]
  },
  {
   "cell_type": "code",
   "execution_count": 106,
   "id": "4cb2b3fc-5226-464d-b0a6-1fb44873949e",
   "metadata": {},
   "outputs": [
    {
     "data": {
      "text/plain": [
       "True"
      ]
     },
     "execution_count": 106,
     "metadata": {},
     "output_type": "execute_result"
    }
   ],
   "source": [
    "np.allclose(difference, 10)"
   ]
  },
  {
   "cell_type": "markdown",
   "id": "0893cb7d-3547-423a-9ce7-1c502fbb35a9",
   "metadata": {},
   "source": [
    "# Exercice 14 - Creation et manipulation de tableau 2D"
   ]
  },
  {
   "cell_type": "code",
   "execution_count": 107,
   "id": "3fc00b7a-eae8-44d2-8a4a-c80a7fb2b34f",
   "metadata": {},
   "outputs": [],
   "source": [
    "# creation de la matrice"
   ]
  },
  {
   "cell_type": "code",
   "execution_count": 108,
   "id": "5a8a2a67-ad4c-405b-9af0-f9d16e3e43be",
   "metadata": {},
   "outputs": [
    {
     "name": "stdout",
     "output_type": "stream",
     "text": [
      "voici ma matrice a  [[ 1  2  3  4  5]\n",
      " [ 6  7  8  9 10]\n",
      " [11 12 13 14 15]\n",
      " [16 17 18 19 20]\n",
      " [21 22 23 24 25]]\n"
     ]
    }
   ],
   "source": [
    "a = np.arange(1,26).reshape(5,5)\n",
    "print(\"voici ma matrice a \",a)"
   ]
  },
  {
   "cell_type": "code",
   "execution_count": 109,
   "id": "67d54f91-1b85-4772-a080-c1af2f1ed34a",
   "metadata": {},
   "outputs": [],
   "source": [
    "# l'indexation et le slicing"
   ]
  },
  {
   "cell_type": "code",
   "execution_count": 110,
   "id": "1268a139-1cf6-48e4-a3c0-14512da6c381",
   "metadata": {},
   "outputs": [],
   "source": [
    "b = a[:3, :4]"
   ]
  },
  {
   "cell_type": "code",
   "execution_count": 111,
   "id": "7af3960a-b9d8-41ba-8d4d-662d1851df8a",
   "metadata": {},
   "outputs": [
    {
     "name": "stdout",
     "output_type": "stream",
     "text": [
      "voici la matrice extraite :  [[ 1  2  3  4]\n",
      " [ 6  7  8  9]\n",
      " [11 12 13 14]]\n"
     ]
    }
   ],
   "source": [
    "print(\"voici la matrice extraite : \", b)"
   ]
  },
  {
   "cell_type": "code",
   "execution_count": 112,
   "id": "23d34549-819f-443f-84a9-d9910e31b444",
   "metadata": {},
   "outputs": [],
   "source": [
    "# recuperer la deuxieme colonee de la matrice a"
   ]
  },
  {
   "cell_type": "code",
   "execution_count": 113,
   "id": "9fb81fc1-d43b-4509-bc67-3832c7c07d82",
   "metadata": {},
   "outputs": [
    {
     "name": "stdout",
     "output_type": "stream",
     "text": [
      "[ 2  7 12 17 22]\n"
     ]
    }
   ],
   "source": [
    "colonne = a[:,1]\n",
    "print(colonne)"
   ]
  },
  {
   "cell_type": "code",
   "execution_count": 114,
   "id": "c967252c-bd7b-4c96-b985-e6d56142b886",
   "metadata": {},
   "outputs": [
    {
     "name": "stdout",
     "output_type": "stream",
     "text": [
      "[ 15  40  65  90 115]\n"
     ]
    }
   ],
   "source": [
    "somme_ligne = np.sum(a,axis=1)\n",
    "print(somme_ligne)"
   ]
  },
  {
   "cell_type": "code",
   "execution_count": 115,
   "id": "ee4175b1-200e-4540-b674-ff3feafb9dd5",
   "metadata": {},
   "outputs": [
    {
     "name": "stdout",
     "output_type": "stream",
     "text": [
      "[11. 12. 13. 14. 15.]\n"
     ]
    }
   ],
   "source": [
    "moyenne_colonne = np.mean(a, axis = 0)\n",
    "print(moyenne_colonne)"
   ]
  },
  {
   "cell_type": "code",
   "execution_count": 116,
   "id": "8c2e69c7-3fa1-48f5-86a4-3582092263b1",
   "metadata": {},
   "outputs": [],
   "source": [
    "# on utilise un masque."
   ]
  },
  {
   "cell_type": "code",
   "execution_count": 117,
   "id": "619f2e7d-29bf-4747-95f3-6161564cc3dc",
   "metadata": {},
   "outputs": [
    {
     "name": "stdout",
     "output_type": "stream",
     "text": [
      "[[False False False False False]\n",
      " [False False False False False]\n",
      " [False False False False False]\n",
      " [False False False False False]\n",
      " [ True  True  True  True  True]]\n",
      "\n",
      "[[ 1  2  3  4  5]\n",
      " [ 6  7  8  9 10]\n",
      " [11 12 13 14 15]\n",
      " [16 17 18 19 20]\n",
      " [ 0  0  0  0  0]]\n"
     ]
    }
   ],
   "source": [
    "masque = a > 20\n",
    "print(masque)\n",
    "a[masque] = 0\n",
    "print()\n",
    "print(a)"
   ]
  },
  {
   "cell_type": "markdown",
   "id": "957561d9-965f-442a-a186-9e913b609afa",
   "metadata": {},
   "source": [
    "# Exercice 15 - Apprehendez Numpy"
   ]
  },
  {
   "cell_type": "code",
   "execution_count": 118,
   "id": "503e6d57-c287-443e-abd1-acccda821c3d",
   "metadata": {},
   "outputs": [],
   "source": [
    "# creation du tableau"
   ]
  },
  {
   "cell_type": "code",
   "execution_count": 119,
   "id": "893802a1-6a8f-493c-80c0-758bd535f8f3",
   "metadata": {},
   "outputs": [
    {
     "name": "stdout",
     "output_type": "stream",
     "text": [
      "voici mon tableau [0 1 2 3 4 5 6 7 8 9]\n"
     ]
    }
   ],
   "source": [
    "v = np.arange(10)\n",
    "print(\"voici mon tableau\", v)"
   ]
  },
  {
   "cell_type": "code",
   "execution_count": 120,
   "id": "8702ed18-ee66-4251-9d67-51f542df73ea",
   "metadata": {},
   "outputs": [],
   "source": [
    "# on affiche l'element en 4e position"
   ]
  },
  {
   "cell_type": "code",
   "execution_count": 121,
   "id": "2d35c57f-b952-4799-aa69-aea822f646b1",
   "metadata": {},
   "outputs": [
    {
     "name": "stdout",
     "output_type": "stream",
     "text": [
      "3\n"
     ]
    }
   ],
   "source": [
    "print(v[3])"
   ]
  },
  {
   "cell_type": "code",
   "execution_count": 122,
   "id": "a8dbdb4b-b5b2-4d51-966a-fa1aadfdbac5",
   "metadata": {},
   "outputs": [],
   "source": [
    "# on affiche les 3 derniers elements du tableaux"
   ]
  },
  {
   "cell_type": "code",
   "execution_count": 123,
   "id": "1c3c938c-7c24-479d-b28a-cc0241eb1691",
   "metadata": {},
   "outputs": [
    {
     "name": "stdout",
     "output_type": "stream",
     "text": [
      "les 3 derniers elements sont [7 8 9]\n"
     ]
    }
   ],
   "source": [
    "print(\"les 3 derniers elements sont\", v[-3:])"
   ]
  },
  {
   "cell_type": "code",
   "execution_count": 124,
   "id": "73bad74b-03f2-43c4-a4e8-33bd60fb11df",
   "metadata": {},
   "outputs": [],
   "source": [
    "# on va afficher la somme de tout les elements du tableau"
   ]
  },
  {
   "cell_type": "code",
   "execution_count": 125,
   "id": "165bcf6f-5cd9-45af-8990-4320cd15eca9",
   "metadata": {},
   "outputs": [
    {
     "name": "stdout",
     "output_type": "stream",
     "text": [
      "la somme vaut 45\n"
     ]
    }
   ],
   "source": [
    "somme = np.sum(v)\n",
    "print(\"la somme vaut\", somme)"
   ]
  },
  {
   "cell_type": "code",
   "execution_count": 126,
   "id": "a9f0f062-6754-4278-b45a-d9b05a7d1faf",
   "metadata": {},
   "outputs": [],
   "source": [
    "# on va afficher la moyenne de v"
   ]
  },
  {
   "cell_type": "code",
   "execution_count": 127,
   "id": "b90bd322-9ca5-4cb1-ac21-048b73b846b3",
   "metadata": {},
   "outputs": [
    {
     "name": "stdout",
     "output_type": "stream",
     "text": [
      "la moyenne du tableau est :  4.5\n"
     ]
    }
   ],
   "source": [
    "moyenne = np.mean(v)\n",
    "print(\"la moyenne du tableau est : \",moyenne)"
   ]
  },
  {
   "cell_type": "code",
   "execution_count": 128,
   "id": "a752008c-462a-449b-b3b4-f33c2dc0a8b2",
   "metadata": {},
   "outputs": [],
   "source": [
    "# on multiplie les elets de v par 2"
   ]
  },
  {
   "cell_type": "code",
   "execution_count": 129,
   "id": "955da53e-ce42-4d7c-9d45-3d4f95e8bfd1",
   "metadata": {},
   "outputs": [
    {
     "name": "stdout",
     "output_type": "stream",
     "text": [
      "on a multiplie les elements de v par 2 [ 0  2  4  6  8 10 12 14 16 18]\n"
     ]
    }
   ],
   "source": [
    "tab = v * 2\n",
    "print(\"on a multiplie les elements de v par 2\", tab)"
   ]
  },
  {
   "cell_type": "markdown",
   "id": "bf2b46cd-6f4f-4696-b255-f5e147c4af98",
   "metadata": {},
   "source": [
    "# Exercice 16 - Numpy #2"
   ]
  },
  {
   "cell_type": "code",
   "execution_count": 130,
   "id": "b7d65dc3-8fcf-45e1-9119-a60fd825da50",
   "metadata": {},
   "outputs": [],
   "source": [
    "# on cree notre matrice"
   ]
  },
  {
   "cell_type": "code",
   "execution_count": 131,
   "id": "3926ef57-237a-4b67-bd4e-67512e36401f",
   "metadata": {},
   "outputs": [
    {
     "name": "stdout",
     "output_type": "stream",
     "text": [
      "voici la forme de ma matrice\n",
      " [[1 2 3]\n",
      " [4 5 6]\n",
      " [7 8 9]]\n"
     ]
    }
   ],
   "source": [
    "m = np.arange(1,10).reshape(3,3)\n",
    "print(\"voici la forme de ma matrice\\n\", m)"
   ]
  },
  {
   "cell_type": "code",
   "execution_count": 132,
   "id": "009f23b6-4152-4108-892d-13387c0eb528",
   "metadata": {},
   "outputs": [
    {
     "name": "stdout",
     "output_type": "stream",
     "text": [
      "on affiche l'element 4\n"
     ]
    }
   ],
   "source": [
    "print(\"on affiche l'element\",m[1,0])"
   ]
  },
  {
   "cell_type": "code",
   "execution_count": 133,
   "id": "61fddb08-f81c-4be5-8697-837becd792e9",
   "metadata": {},
   "outputs": [
    {
     "name": "stdout",
     "output_type": "stream",
     "text": [
      "on affiche  [1 4 7]\n"
     ]
    }
   ],
   "source": [
    "print(\"on affiche \", m[:,0])"
   ]
  },
  {
   "cell_type": "code",
   "execution_count": 134,
   "id": "d0a4cc9c-41ff-412b-9853-5223d5f07ae8",
   "metadata": {},
   "outputs": [
    {
     "name": "stdout",
     "output_type": "stream",
     "text": [
      "[[1 2 3]\n",
      " [4 5 6]]\n"
     ]
    }
   ],
   "source": [
    "print(m[:2,:])"
   ]
  },
  {
   "cell_type": "code",
   "execution_count": 135,
   "id": "7e19ecad-c3af-49e2-8d0c-9dc7bffa4555",
   "metadata": {},
   "outputs": [
    {
     "name": "stdout",
     "output_type": "stream",
     "text": [
      "[12 15 18]\n"
     ]
    }
   ],
   "source": [
    "somme_colones = np.sum(m,axis = 0)\n",
    "print(somme_colones)"
   ]
  },
  {
   "cell_type": "code",
   "execution_count": 136,
   "id": "bb70a4bf-9f95-454b-9428-48be5eb06d3e",
   "metadata": {},
   "outputs": [],
   "source": [
    "# maintenanrt, on s'occupe des lignes\n"
   ]
  },
  {
   "cell_type": "code",
   "execution_count": 137,
   "id": "5cb729c0-0c3f-4221-8278-694cb615e365",
   "metadata": {},
   "outputs": [
    {
     "name": "stdout",
     "output_type": "stream",
     "text": [
      "la somme des lignes vaut : [ 6 15 24]\n"
     ]
    }
   ],
   "source": [
    "somme_lignes = np.sum(m,axis = 1)\n",
    "print(\"la somme des lignes vaut :\", somme_lignes)"
   ]
  },
  {
   "cell_type": "code",
   "execution_count": 138,
   "id": "1ce41dbb-6908-46a6-be96-a79d95bfdeaa",
   "metadata": {},
   "outputs": [],
   "source": [
    "# obteniur la matrice transposee"
   ]
  },
  {
   "cell_type": "code",
   "execution_count": 139,
   "id": "582e7128-62f6-43e5-b377-b6d9a26a0054",
   "metadata": {},
   "outputs": [
    {
     "name": "stdout",
     "output_type": "stream",
     "text": [
      "voici la matrice transposee [[1 4 7]\n",
      " [2 5 8]\n",
      " [3 6 9]]\n"
     ]
    }
   ],
   "source": [
    "transposee = m.T\n",
    "print(\"voici la matrice transposee\", transposee)"
   ]
  },
  {
   "cell_type": "markdown",
   "id": "0b5cf43f-777f-4fd8-bfa8-8e070296a108",
   "metadata": {},
   "source": [
    "# Exercice 17 - Numpy #3 "
   ]
  },
  {
   "cell_type": "code",
   "execution_count": 140,
   "id": "c6c4b696-1069-4310-93d1-b3b780a95ac8",
   "metadata": {},
   "outputs": [
    {
     "name": "stdout",
     "output_type": "stream",
     "text": [
      "Voici mon tableau v  [3 1 4 1 5 9]\n"
     ]
    }
   ],
   "source": [
    "v = np.array([3,1,4,1,5,9])\n",
    "print(\"Voici mon tableau v \", v)"
   ]
  },
  {
   "cell_type": "code",
   "execution_count": 141,
   "id": "ad88a77f-9dad-4245-a7ae-4f529042d19d",
   "metadata": {},
   "outputs": [],
   "source": [
    "# on recupere l'element maximale"
   ]
  },
  {
   "cell_type": "code",
   "execution_count": 142,
   "id": "403bce79-9b6b-4ea0-aaba-fd88e8f8e027",
   "metadata": {},
   "outputs": [
    {
     "name": "stdout",
     "output_type": "stream",
     "text": [
      "on affiche sa valeur maximale 9\n"
     ]
    }
   ],
   "source": [
    "maximum = np.max(v)\n",
    "print(\"on affiche sa valeur maximale\", maximum)"
   ]
  },
  {
   "cell_type": "code",
   "execution_count": 143,
   "id": "7c82fbe6-4e42-4ce3-9d36-be8f9c5edfb9",
   "metadata": {},
   "outputs": [],
   "source": [
    "# on utilise argmax pour recuperer sa position"
   ]
  },
  {
   "cell_type": "code",
   "execution_count": 144,
   "id": "b035e895-f355-477a-97b3-ca0de090ec98",
   "metadata": {},
   "outputs": [
    {
     "name": "stdout",
     "output_type": "stream",
     "text": [
      "5\n"
     ]
    }
   ],
   "source": [
    "i = np.argmax(v)\n",
    "print(i)"
   ]
  },
  {
   "cell_type": "code",
   "execution_count": 145,
   "id": "4809735e-ca29-4158-b12e-e4fb22a54aa6",
   "metadata": {},
   "outputs": [],
   "source": [
    "# on trie le tableau en ordre croissant"
   ]
  },
  {
   "cell_type": "code",
   "execution_count": 146,
   "id": "4830f63b-07df-4fba-93d0-48d705e3bed3",
   "metadata": {},
   "outputs": [
    {
     "name": "stdout",
     "output_type": "stream",
     "text": [
      "voici mon tableau trie par ordre croissant :  [1 1 3 4 5 9]\n"
     ]
    }
   ],
   "source": [
    "croissant = np.sort(v)\n",
    "print(\"voici mon tableau trie par ordre croissant : \", croissant)"
   ]
  },
  {
   "cell_type": "code",
   "execution_count": 147,
   "id": "e45a7dd3-3dde-4777-8a12-3b39689b8e0e",
   "metadata": {},
   "outputs": [],
   "source": [
    "# Exericice 18 - Numpy #4"
   ]
  },
  {
   "cell_type": "code",
   "execution_count": 148,
   "id": "c7e6d0d3-db79-4601-a1fd-7c64e3f5fe24",
   "metadata": {},
   "outputs": [
    {
     "name": "stdout",
     "output_type": "stream",
     "text": [
      "voici mon tableau [2 7 1 8 2 8]\n"
     ]
    }
   ],
   "source": [
    "tab = np.array([2,7,1,8,2,8])\n",
    "print(\"voici mon tableau\", tab)"
   ]
  },
  {
   "cell_type": "code",
   "execution_count": 149,
   "id": "7bb7fd5e-f8fb-4b4f-87c0-76b1450a0a02",
   "metadata": {},
   "outputs": [],
   "source": [
    "# le masque boolen\n",
    "\n"
   ]
  },
  {
   "cell_type": "code",
   "execution_count": 150,
   "id": "68f249aa-dbea-4628-90ab-d4c2da148cad",
   "metadata": {},
   "outputs": [
    {
     "name": "stdout",
     "output_type": "stream",
     "text": [
      "[False  True False  True False  True]\n"
     ]
    }
   ],
   "source": [
    "mask = tab > 4\n",
    "print(mask)"
   ]
  },
  {
   "cell_type": "code",
   "execution_count": 151,
   "id": "b5928558-6c96-433c-b015-c79c6ab808e4",
   "metadata": {},
   "outputs": [
    {
     "name": "stdout",
     "output_type": "stream",
     "text": [
      "[7 8 8]\n"
     ]
    }
   ],
   "source": [
    "# on affiche la ou s'est true\n",
    "print(tab[mask])"
   ]
  },
  {
   "cell_type": "code",
   "execution_count": 152,
   "id": "1fb8cd33-7425-483e-92cd-8207dea00f2a",
   "metadata": {},
   "outputs": [],
   "source": [
    "# on eleve les elements du tableaux au carre"
   ]
  },
  {
   "cell_type": "code",
   "execution_count": 153,
   "id": "a9664864-7f6c-492c-aa34-1b54e5ca2d66",
   "metadata": {},
   "outputs": [
    {
     "name": "stdout",
     "output_type": "stream",
     "text": [
      "[ 4 49  1 64  4 64]\n"
     ]
    }
   ],
   "source": [
    "carree = np.square(tab)\n",
    "print(carree)"
   ]
  },
  {
   "cell_type": "code",
   "execution_count": 154,
   "id": "92a3fbc4-d1bd-439b-8b77-cdaf82b62883",
   "metadata": {},
   "outputs": [],
   "source": [
    "# somme du nouveau tableau"
   ]
  },
  {
   "cell_type": "code",
   "execution_count": 155,
   "id": "08d9f1ff-87bb-471c-a18c-9b10989242c6",
   "metadata": {},
   "outputs": [
    {
     "name": "stdout",
     "output_type": "stream",
     "text": [
      "186\n"
     ]
    }
   ],
   "source": [
    "somme = np.sum(carree)\n",
    "print(somme)"
   ]
  },
  {
   "cell_type": "markdown",
   "id": "94a08e25-a6d8-40bc-91e1-b2bb03cb485b",
   "metadata": {},
   "source": [
    "# Exercice numpy - 4"
   ]
  },
  {
   "cell_type": "code",
   "execution_count": 156,
   "id": "46e025dd-26ed-42bd-8f20-e7ebc846c462",
   "metadata": {},
   "outputs": [],
   "source": [
    "# creation d'un tableau a une seule dimension"
   ]
  },
  {
   "cell_type": "code",
   "execution_count": 157,
   "id": "5406d652-0856-49a2-9aa3-ddf8e8b55390",
   "metadata": {},
   "outputs": [
    {
     "name": "stdout",
     "output_type": "stream",
     "text": [
      "v =  [10 20 30 40 50]\n"
     ]
    }
   ],
   "source": [
    "v = np.array([10,20,30,40,50])\n",
    "\n",
    "print(\"v = \", v)"
   ]
  },
  {
   "cell_type": "code",
   "execution_count": 158,
   "id": "d866ba9e-5b85-44d2-84be-6b1ebba06149",
   "metadata": {},
   "outputs": [],
   "source": [
    "# moyenne du tableau"
   ]
  },
  {
   "cell_type": "code",
   "execution_count": 159,
   "id": "3be91402-1630-4fed-94a0-ecb24deabd68",
   "metadata": {},
   "outputs": [
    {
     "name": "stdout",
     "output_type": "stream",
     "text": [
      "cest la moyenne du tableau : 30.0\n"
     ]
    }
   ],
   "source": [
    "moyenne = np.mean(v)\n",
    "print(\"cest la moyenne du tableau :\", moyenne)"
   ]
  },
  {
   "cell_type": "code",
   "execution_count": 160,
   "id": "f99a60f5-149c-4f3e-963e-b006e73ab761",
   "metadata": {},
   "outputs": [
    {
     "name": "stdout",
     "output_type": "stream",
     "text": [
      "[-20. -10.   0.  10.  20.]\n"
     ]
    }
   ],
   "source": [
    "tab = v - moyenne\n",
    "print(tab)"
   ]
  },
  {
   "cell_type": "code",
   "execution_count": 161,
   "id": "25dc367d-7858-4071-9897-8a71f959e080",
   "metadata": {},
   "outputs": [],
   "source": [
    "# ecart type"
   ]
  },
  {
   "cell_type": "code",
   "execution_count": 162,
   "id": "1a84ed1f-6d08-426a-bd66-c38515c534c9",
   "metadata": {},
   "outputs": [
    {
     "name": "stdout",
     "output_type": "stream",
     "text": [
      "voici mon ecart type :  14.142135623730951\n"
     ]
    }
   ],
   "source": [
    "etype = np.std(v)\n",
    "print(\"voici mon ecart type : \", etype)"
   ]
  },
  {
   "cell_type": "code",
   "execution_count": 163,
   "id": "ab81668e-2396-44f7-b08f-cc022262e00d",
   "metadata": {},
   "outputs": [
    {
     "name": "stdout",
     "output_type": "stream",
     "text": [
      "[-1.41421356 -0.70710678  0.          0.70710678  1.41421356]\n"
     ]
    }
   ],
   "source": [
    "v_norm = tab / etype\n",
    "print(v_norm)"
   ]
  },
  {
   "cell_type": "markdown",
   "id": "93c091cf-94d5-48e9-b339-9f6ad9345d43",
   "metadata": {},
   "source": [
    "# Exercice Numpy - 5"
   ]
  },
  {
   "cell_type": "code",
   "execution_count": 164,
   "id": "eb7c69d7-84bc-4aea-91fe-9602f26e7554",
   "metadata": {},
   "outputs": [],
   "source": [
    "# on cree la matrice identite"
   ]
  },
  {
   "cell_type": "code",
   "execution_count": 165,
   "id": "cad9810c-38cc-4aad-8414-32c7a19d9a0c",
   "metadata": {},
   "outputs": [
    {
     "name": "stdout",
     "output_type": "stream",
     "text": [
      "[[1. 0. 0. 0.]\n",
      " [0. 1. 0. 0.]\n",
      " [0. 0. 1. 0.]\n",
      " [0. 0. 0. 1.]]\n"
     ]
    }
   ],
   "source": [
    "I = np.eye(4)\n",
    "print(I)"
   ]
  },
  {
   "cell_type": "code",
   "execution_count": 166,
   "id": "9729a06d-9df1-4169-b3d9-0a932642ae13",
   "metadata": {},
   "outputs": [],
   "source": [
    "# on travaille sur la diagonale de la matrice"
   ]
  },
  {
   "cell_type": "code",
   "execution_count": 167,
   "id": "2dc32acd-3f96-412e-a8fb-1cc9e70d0cbb",
   "metadata": {},
   "outputs": [
    {
     "name": "stdout",
     "output_type": "stream",
     "text": [
      "[[10.  0.  0.  0.]\n",
      " [ 0. 20.  0.  0.]\n",
      " [ 0.  0. 30.  0.]\n",
      " [ 0.  0.  0. 40.]]\n",
      "=================\n",
      "[10. 20. 30. 40.]\n"
     ]
    }
   ],
   "source": [
    "diagonale = np.array([10,20,30,40])\n",
    "I[np.diag_indices(4)] = diagonale\n",
    "print(I)\n",
    "print(\"=================\")\n",
    "print(I[np.diag_indices(4)])"
   ]
  },
  {
   "cell_type": "code",
   "execution_count": 168,
   "id": "d81c6c91-8b87-4701-b105-17959e18ce04",
   "metadata": {},
   "outputs": [],
   "source": [
    "# trace de la matrice"
   ]
  },
  {
   "cell_type": "code",
   "execution_count": 169,
   "id": "6bffe803-c3ec-41d5-bdb3-e909c339248d",
   "metadata": {},
   "outputs": [
    {
     "name": "stdout",
     "output_type": "stream",
     "text": [
      "100.0\n"
     ]
    }
   ],
   "source": [
    "trace = np.trace(I)\n",
    "print(trace)"
   ]
  },
  {
   "cell_type": "code",
   "execution_count": 170,
   "id": "3eb449f3-44df-4a4d-8cf6-53dbb86cc9b2",
   "metadata": {},
   "outputs": [],
   "source": [
    "# matrice applatie"
   ]
  },
  {
   "cell_type": "code",
   "execution_count": 171,
   "id": "1e4b0cd9-72ab-444f-acbc-fc71028a99b8",
   "metadata": {},
   "outputs": [
    {
     "name": "stdout",
     "output_type": "stream",
     "text": [
      "[10.  0.  0.  0.  0. 20.  0.  0.  0.  0. 30.  0.  0.  0.  0. 40.]\n"
     ]
    }
   ],
   "source": [
    "f = I.flatten()\n",
    "print(f)"
   ]
  },
  {
   "cell_type": "markdown",
   "id": "f995312e-ebc7-458d-98af-64d05386de01",
   "metadata": {},
   "source": [
    "# Operation d ebase"
   ]
  },
  {
   "cell_type": "code",
   "execution_count": 172,
   "id": "dd6ebefd-5a7d-4abc-b801-cd8f17058056",
   "metadata": {},
   "outputs": [],
   "source": [
    "# on fazit la somme de deux matrices A et B"
   ]
  },
  {
   "cell_type": "code",
   "execution_count": 173,
   "id": "7f310ee0-d5ba-4429-b8ef-9b5fb2ec5116",
   "metadata": {},
   "outputs": [
    {
     "name": "stdout",
     "output_type": "stream",
     "text": [
      "[[1 2]\n",
      " [3 4]]\n"
     ]
    }
   ],
   "source": [
    "A = np.array([[1,2],[3,4]])\n",
    "print(A)"
   ]
  },
  {
   "cell_type": "code",
   "execution_count": 174,
   "id": "5056bc20-5d6e-497e-8d4f-5ea62e530d26",
   "metadata": {},
   "outputs": [
    {
     "name": "stdout",
     "output_type": "stream",
     "text": [
      "[[ 0 -1]\n",
      " [ 5  2]]\n"
     ]
    }
   ],
   "source": [
    "B = np.array([[0,-1],[5,2]])\n",
    "print(B)"
   ]
  },
  {
   "cell_type": "code",
   "execution_count": 175,
   "id": "21b07ba7-4d6f-4a29-b323-b24d2e955a26",
   "metadata": {},
   "outputs": [
    {
     "name": "stdout",
     "output_type": "stream",
     "text": [
      "[[1 1]\n",
      " [8 6]]\n"
     ]
    }
   ],
   "source": [
    "somme_ab = A + B\n",
    "print(somme_ab)"
   ]
  },
  {
   "cell_type": "code",
   "execution_count": 176,
   "id": "f028f4ff-b77d-41d6-92bc-6c4e78910938",
   "metadata": {},
   "outputs": [],
   "source": [
    "# un autre calcul matricielle"
   ]
  },
  {
   "cell_type": "code",
   "execution_count": 177,
   "id": "2b769653-83ed-47c4-a735-9ec428035690",
   "metadata": {},
   "outputs": [
    {
     "name": "stdout",
     "output_type": "stream",
     "text": [
      "[[2 5]\n",
      " [1 6]]\n"
     ]
    }
   ],
   "source": [
    "s = 2 * A - B\n",
    "print(s)"
   ]
  },
  {
   "cell_type": "code",
   "execution_count": 178,
   "id": "62e90eaf-164c-43a1-b22b-d35861b2bb80",
   "metadata": {},
   "outputs": [
    {
     "name": "stdout",
     "output_type": "stream",
     "text": [
      "[[10  3]\n",
      " [20  5]]\n"
     ]
    }
   ],
   "source": [
    "# produit matriciel\n",
    "M = A @ B\n",
    "print(M)"
   ]
  },
  {
   "cell_type": "markdown",
   "id": "adcf91b4-5ef6-41d6-b4a2-9ec769a7b2da",
   "metadata": {},
   "source": [
    "# Exercice 18 - Transposee et trace"
   ]
  },
  {
   "cell_type": "code",
   "execution_count": 179,
   "id": "7eb8e158-79da-4f8d-b794-58a2d45f65c2",
   "metadata": {},
   "outputs": [],
   "source": [
    "# on calcule la transposee de la matrice C"
   ]
  },
  {
   "cell_type": "code",
   "execution_count": 180,
   "id": "214b4df1-423a-42b2-bae9-57bc2eb65bb5",
   "metadata": {},
   "outputs": [
    {
     "name": "stdout",
     "output_type": "stream",
     "text": [
      "[[ 2  0  1]\n",
      " [-1  3  4]]\n"
     ]
    }
   ],
   "source": [
    "C = np.array([[2,0,1],[-1,3,4]])\n",
    "print(C)"
   ]
  },
  {
   "cell_type": "code",
   "execution_count": 181,
   "id": "e11218bb-c71a-4c6f-a1f7-54dd82d55a70",
   "metadata": {},
   "outputs": [
    {
     "name": "stdout",
     "output_type": "stream",
     "text": [
      "[[ 2 -1]\n",
      " [ 0  3]\n",
      " [ 1  4]]\n"
     ]
    }
   ],
   "source": [
    "transposee = C.T\n",
    "print(transposee)"
   ]
  },
  {
   "cell_type": "code",
   "execution_count": 182,
   "id": "2c71b7ad-bf4d-40bb-9e84-0cfc5c9852c9",
   "metadata": {},
   "outputs": [],
   "source": [
    "# trace de la matrice D"
   ]
  },
  {
   "cell_type": "code",
   "execution_count": 183,
   "id": "7b8864f2-490d-4de5-8494-bac384ac78f9",
   "metadata": {},
   "outputs": [
    {
     "name": "stdout",
     "output_type": "stream",
     "text": [
      "[[ 5 -3 -2]\n",
      " [-3  9 12]\n",
      " [-2 12 17]]\n"
     ]
    }
   ],
   "source": [
    "D = transposee @ C\n",
    "print(D)"
   ]
  },
  {
   "cell_type": "code",
   "execution_count": 184,
   "id": "3318e3ad-ae95-4510-b3a1-abfcfa82da1a",
   "metadata": {},
   "outputs": [
    {
     "name": "stdout",
     "output_type": "stream",
     "text": [
      "31\n"
     ]
    }
   ],
   "source": [
    "trace = np.trace(D)\n",
    "print(trace)"
   ]
  },
  {
   "cell_type": "markdown",
   "id": "9291140e-8d26-4d66-a38d-66c06890437a",
   "metadata": {},
   "source": [
    "# Exercice 19 - Determinant"
   ]
  },
  {
   "cell_type": "code",
   "execution_count": 185,
   "id": "5e39f577-35a0-4eb3-86db-a288254514ef",
   "metadata": {},
   "outputs": [
    {
     "name": "stdout",
     "output_type": "stream",
     "text": [
      "128.99999999999997\n"
     ]
    }
   ],
   "source": [
    "tab = np.array([[4,7,2],[0,5,1],[-3,0,6]])\n",
    "determinant = np.linalg.det(tab)\n",
    "print(determinant)"
   ]
  },
  {
   "cell_type": "markdown",
   "id": "544dd47b-32e0-4703-b373-28d09bcbf2e7",
   "metadata": {},
   "source": [
    "# Exercice 20 - Inverse et resolution d'un systeme"
   ]
  },
  {
   "cell_type": "code",
   "execution_count": 186,
   "id": "39898866-7195-4ff7-8933-0c0be6a98355",
   "metadata": {},
   "outputs": [
    {
     "name": "stdout",
     "output_type": "stream",
     "text": [
      "[[1 2 3]\n",
      " [0 1 4]\n",
      " [5 6 0]]\n"
     ]
    }
   ],
   "source": [
    "F = np.array([[1,2,3],[0,1,4],[5,6,0]])\n",
    "print(F)"
   ]
  },
  {
   "cell_type": "code",
   "execution_count": 187,
   "id": "7c558371-86d1-4abb-a843-aaa72e5dc59f",
   "metadata": {},
   "outputs": [
    {
     "name": "stdout",
     "output_type": "stream",
     "text": [
      "[9 7 8]\n"
     ]
    }
   ],
   "source": [
    "b = np.array([9,7,8])\n",
    "print(b)"
   ]
  },
  {
   "cell_type": "code",
   "execution_count": 188,
   "id": "ec91376b-be94-4f34-8638-0bdf83cc3b41",
   "metadata": {},
   "outputs": [],
   "source": [
    "# on inverse F."
   ]
  },
  {
   "cell_type": "code",
   "execution_count": 189,
   "id": "ce4d3181-87c6-4606-966e-10d7ce834f41",
   "metadata": {},
   "outputs": [
    {
     "name": "stdout",
     "output_type": "stream",
     "text": [
      "[[-24.  18.   5.]\n",
      " [ 20. -15.  -4.]\n",
      " [ -5.   4.   1.]]  ma matrice inversee\n"
     ]
    }
   ],
   "source": [
    "F_inv = np.linalg.inv(F)\n",
    "print(F_inv, \" ma matrice inversee\")"
   ]
  },
  {
   "cell_type": "code",
   "execution_count": 190,
   "id": "5ed954fd-8694-4c03-8a77-dae7c7c0ad57",
   "metadata": {},
   "outputs": [
    {
     "name": "stdout",
     "output_type": "stream",
     "text": [
      "[-50.  43.  -9.]\n"
     ]
    }
   ],
   "source": [
    "sol = F_inv @ b\n",
    "print(sol)"
   ]
  },
  {
   "cell_type": "code",
   "execution_count": 191,
   "id": "15ac60fe-a4fd-48cf-b10b-a995bf345210",
   "metadata": {},
   "outputs": [],
   "source": [
    "# on verifie la solution"
   ]
  },
  {
   "cell_type": "code",
   "execution_count": 192,
   "id": "93ec90d9-530f-4076-8c72-0396a8e54b44",
   "metadata": {},
   "outputs": [
    {
     "name": "stdout",
     "output_type": "stream",
     "text": [
      "[-50.  43.  -9.]\n"
     ]
    }
   ],
   "source": [
    "sol_2 = np.linalg.solve(F,b)\n",
    "print(sol_2)"
   ]
  },
  {
   "cell_type": "markdown",
   "id": "f6f3ae81-c6da-414b-9d19-6021c98eeb13",
   "metadata": {},
   "source": [
    "# Exercice 21 - Rang d'une matrice"
   ]
  },
  {
   "cell_type": "code",
   "execution_count": 193,
   "id": "0056eede-eb20-4c4b-826a-77cc02b7ea3c",
   "metadata": {},
   "outputs": [
    {
     "name": "stdout",
     "output_type": "stream",
     "text": [
      "[[ 1  2  3  4]\n",
      " [ 2  4  6  8]\n",
      " [ 0  1 -1  2]]\n"
     ]
    }
   ],
   "source": [
    "G = np.array([[1,2,3,4],[2,4,6,8],[0,1,-1,2]])\n",
    "print(G)"
   ]
  },
  {
   "cell_type": "code",
   "execution_count": 194,
   "id": "546faa6b-398f-4ee4-9ad1-49267f650094",
   "metadata": {},
   "outputs": [],
   "source": [
    "# maintenant on calcule le rang de la matrice G"
   ]
  },
  {
   "cell_type": "code",
   "execution_count": 195,
   "id": "985a08a2-32f2-4be7-a09d-3d2578957414",
   "metadata": {},
   "outputs": [
    {
     "name": "stdout",
     "output_type": "stream",
     "text": [
      "2\n"
     ]
    }
   ],
   "source": [
    "rang = np.linalg.matrix_rank(G)\n",
    "print(rang)"
   ]
  },
  {
   "cell_type": "markdown",
   "id": "a516fe40-8d0b-4aaf-90aa-d7d149a285a7",
   "metadata": {},
   "source": [
    "# Exercice - 21 - Operation de base (bis) "
   ]
  },
  {
   "cell_type": "code",
   "execution_count": 196,
   "id": "87e7afb9-1ec1-49e8-b0ce-50a792e21c87",
   "metadata": {},
   "outputs": [],
   "source": [
    "# la some matricielle, c'est parti"
   ]
  },
  {
   "cell_type": "code",
   "execution_count": 197,
   "id": "fcff5036-bb28-4f45-9415-139734238003",
   "metadata": {},
   "outputs": [
    {
     "name": "stdout",
     "output_type": "stream",
     "text": [
      "[[1 2]\n",
      " [3 4]]\n"
     ]
    }
   ],
   "source": [
    "A = np.array([[1,2],[3,4]])\n",
    "print(A)"
   ]
  },
  {
   "cell_type": "code",
   "execution_count": 198,
   "id": "8982b9b8-1495-45bd-b6d7-edbf7aaa5229",
   "metadata": {},
   "outputs": [
    {
     "name": "stdout",
     "output_type": "stream",
     "text": [
      "[[ 0 -1]\n",
      " [ 5  2]]\n"
     ]
    }
   ],
   "source": [
    "B = np.array([[0,-1],[5,2]])\n",
    "print(B)"
   ]
  },
  {
   "cell_type": "code",
   "execution_count": 199,
   "id": "3a6e1b65-9435-4e7e-bc73-2d40527b2f94",
   "metadata": {},
   "outputs": [],
   "source": [
    "# on fait la somme matricielle"
   ]
  },
  {
   "cell_type": "code",
   "execution_count": 200,
   "id": "64286a91-52c5-4d0f-b6eb-0d620ca8382b",
   "metadata": {},
   "outputs": [],
   "source": [
    "C = A + B"
   ]
  },
  {
   "cell_type": "code",
   "execution_count": 201,
   "id": "a623233f-5dd4-48a3-8929-4e5c788bf3e1",
   "metadata": {},
   "outputs": [
    {
     "name": "stdout",
     "output_type": "stream",
     "text": [
      "[[1 1]\n",
      " [8 6]]\n"
     ]
    }
   ],
   "source": [
    "print(C)"
   ]
  },
  {
   "cell_type": "code",
   "execution_count": 202,
   "id": "bc5de050-4539-4cf7-8dbd-3cc49eaf7a7d",
   "metadata": {},
   "outputs": [],
   "source": [
    "# autre calcul matricielle"
   ]
  },
  {
   "cell_type": "code",
   "execution_count": 203,
   "id": "3e0b8a96-eb08-4ea2-9d2d-b9ed0e536846",
   "metadata": {},
   "outputs": [
    {
     "name": "stdout",
     "output_type": "stream",
     "text": [
      "[[2 5]\n",
      " [1 6]]\n"
     ]
    }
   ],
   "source": [
    "D = 2 * A - B\n",
    "print(D)"
   ]
  },
  {
   "cell_type": "code",
   "execution_count": 204,
   "id": "71af0c29-5cbf-4c82-848c-432ce1c206dd",
   "metadata": {},
   "outputs": [
    {
     "name": "stdout",
     "output_type": "stream",
     "text": [
      "[[10  3]\n",
      " [20  5]]\n"
     ]
    }
   ],
   "source": [
    "produit_matriciel = A @ B\n",
    "print(produit_matriciel)"
   ]
  },
  {
   "cell_type": "markdown",
   "id": "0a21eadd-41ac-4a83-a8dc-f9ce829c90fe",
   "metadata": {},
   "source": [
    "# Exercice 22 - Trnsposee et trace"
   ]
  },
  {
   "cell_type": "code",
   "execution_count": 205,
   "id": "f38aae27-dbf0-4434-9914-5dfeaf241f66",
   "metadata": {},
   "outputs": [],
   "source": [
    "# calculons la transposee de la matrice C"
   ]
  },
  {
   "cell_type": "code",
   "execution_count": 206,
   "id": "c34cbc9b-268a-4215-b877-3da358cb7a95",
   "metadata": {},
   "outputs": [
    {
     "name": "stdout",
     "output_type": "stream",
     "text": [
      "voici ma matrice C \n",
      " [[ 2  0  1]\n",
      " [-1  3  4]]\n"
     ]
    }
   ],
   "source": [
    "C = np.array([[2,0,1],[-1,3,4]])\n",
    "print(\"voici ma matrice C \\n\", C)"
   ]
  },
  {
   "cell_type": "code",
   "execution_count": 207,
   "id": "338cfffb-e8e6-480a-b508-389e498f56d1",
   "metadata": {},
   "outputs": [
    {
     "name": "stdout",
     "output_type": "stream",
     "text": [
      "[[ 2 -1]\n",
      " [ 0  3]\n",
      " [ 1  4]] Il s'agit de la transposee de la matrice C\n"
     ]
    }
   ],
   "source": [
    "C_T = C . T\n",
    "print(C_T,\"Il s'agit de la transposee de la matrice C\")"
   ]
  },
  {
   "cell_type": "code",
   "execution_count": 208,
   "id": "77f7f60d-23c8-42f5-806b-3fff34707de0",
   "metadata": {},
   "outputs": [],
   "source": [
    "# on calcule la trace de la matrice D"
   ]
  },
  {
   "cell_type": "code",
   "execution_count": 209,
   "id": "a6a2a218-3f75-40a5-b2a3-8f31b9871125",
   "metadata": {},
   "outputs": [
    {
     "name": "stdout",
     "output_type": "stream",
     "text": [
      "[[ 5 -3 -2]\n",
      " [-3  9 12]\n",
      " [-2 12 17]] Voici la matrice D\n"
     ]
    }
   ],
   "source": [
    "D = C_T @ C\n",
    "print(D, \"Voici la matrice D\")"
   ]
  },
  {
   "cell_type": "code",
   "execution_count": 210,
   "id": "2a1ffe9e-eff7-479e-b270-144dc611372a",
   "metadata": {},
   "outputs": [],
   "source": [
    "trace = np.trace(D)"
   ]
  },
  {
   "cell_type": "code",
   "execution_count": 211,
   "id": "a012ab2e-dafa-4da3-bc13-6a9873d15f56",
   "metadata": {},
   "outputs": [
    {
     "name": "stdout",
     "output_type": "stream",
     "text": [
      "31  la trace de la matrice D\n"
     ]
    }
   ],
   "source": [
    "print(trace,\" la trace de la matrice D\")"
   ]
  },
  {
   "cell_type": "markdown",
   "id": "24001809-fa3f-4a01-ab49-65c4b06a9848",
   "metadata": {},
   "source": [
    "# Exercice 23 - determinant d'une matrice"
   ]
  },
  {
   "cell_type": "code",
   "execution_count": 212,
   "id": "c5b1a6b5-0f28-4e3f-9e96-1416461f2f2d",
   "metadata": {},
   "outputs": [
    {
     "name": "stdout",
     "output_type": "stream",
     "text": [
      "128.99999999999997\n"
     ]
    }
   ],
   "source": [
    "E = np.array([[4,7,2],[0,5,1],[-3,0,6]])\n",
    "\n",
    "determinant = np.linalg.det(E)\n",
    "print(determinant)"
   ]
  },
  {
   "cell_type": "markdown",
   "id": "f880ba96-308d-4933-b0be-cc5528a1acd0",
   "metadata": {},
   "source": [
    "# Inverse et resolution d'un systeme"
   ]
  },
  {
   "cell_type": "code",
   "execution_count": 213,
   "id": "fb439139-3eed-46b9-859b-58ee31ac8361",
   "metadata": {},
   "outputs": [
    {
     "name": "stdout",
     "output_type": "stream",
     "text": [
      "[[1 2 3]\n",
      " [0 1 4]\n",
      " [5 6 0]]\n"
     ]
    }
   ],
   "source": [
    "I = np.array([[1,2,3],[0,1,4],[5,6,0]])\n",
    "print(I)"
   ]
  },
  {
   "cell_type": "code",
   "execution_count": 214,
   "id": "a8aaf54c-d27b-4a8e-8e42-780cb116c827",
   "metadata": {},
   "outputs": [],
   "source": [
    "I_inv = np.linalg.inv(I)"
   ]
  },
  {
   "cell_type": "code",
   "execution_count": 215,
   "id": "a96e8203-b084-48c5-9564-b42fdaf79414",
   "metadata": {},
   "outputs": [
    {
     "name": "stdout",
     "output_type": "stream",
     "text": [
      "[[-24.  18.   5.]\n",
      " [ 20. -15.  -4.]\n",
      " [ -5.   4.   1.]]\n"
     ]
    }
   ],
   "source": [
    "print(I_inv)"
   ]
  },
  {
   "cell_type": "code",
   "execution_count": 216,
   "id": "c0634aa4-48b9-43bf-9cb9-1f440ca22232",
   "metadata": {},
   "outputs": [
    {
     "name": "stdout",
     "output_type": "stream",
     "text": [
      "[9 7 8]\n"
     ]
    }
   ],
   "source": [
    "b = np.array([9,7,8])\n",
    "print(b)"
   ]
  },
  {
   "cell_type": "code",
   "execution_count": 217,
   "id": "e2f8fae9-72dd-47dc-8c19-512e2c3848e8",
   "metadata": {},
   "outputs": [
    {
     "name": "stdout",
     "output_type": "stream",
     "text": [
      "[-50.  43.  -9.]\n"
     ]
    }
   ],
   "source": [
    "x = F_inv @ b\n",
    "print(x)"
   ]
  },
  {
   "cell_type": "code",
   "execution_count": 218,
   "id": "7c700858-65fa-44dd-ac21-f64e6128acc6",
   "metadata": {},
   "outputs": [
    {
     "name": "stdout",
     "output_type": "stream",
     "text": [
      "[-50.  43.  -9.]\n"
     ]
    }
   ],
   "source": [
    "sol = np.linalg.solve(F,b)\n",
    "print(sol)"
   ]
  },
  {
   "cell_type": "markdown",
   "id": "4cac9c25-f933-4770-8518-bc710761ebf7",
   "metadata": {},
   "source": [
    "# Exercice - 24 - Normes de matrices"
   ]
  },
  {
   "cell_type": "code",
   "execution_count": 220,
   "id": "a2a25fe4-a443-48a9-9423-69c1aed5b3e7",
   "metadata": {},
   "outputs": [
    {
     "name": "stdout",
     "output_type": "stream",
     "text": [
      "[[ 1 -2]\n",
      " [ 3  0]]\n"
     ]
    }
   ],
   "source": [
    "A = np.array([[1,-2],[3,0]])\n",
    "print(A)"
   ]
  },
  {
   "cell_type": "code",
   "execution_count": 221,
   "id": "a0b1f145-880d-4646-b177-4f4c9c9c320e",
   "metadata": {},
   "outputs": [],
   "source": [
    "# premiere question"
   ]
  },
  {
   "cell_type": "code",
   "execution_count": 222,
   "id": "8e8317e0-cc8f-45cb-8f69-5b55f5bd136c",
   "metadata": {},
   "outputs": [
    {
     "name": "stdout",
     "output_type": "stream",
     "text": [
      "la norme vaut :  3.7416573867739413\n"
     ]
    }
   ],
   "source": [
    "norme = np.linalg.norm(A)\n",
    "print(\"la norme vaut : \",norme)"
   ]
  },
  {
   "cell_type": "markdown",
   "id": "772b52fc-86bc-45d2-b1d0-c0c9d522823a",
   "metadata": {},
   "source": [
    "# Vecteurs avec Numpy"
   ]
  },
  {
   "cell_type": "markdown",
   "id": "68c50d03-0b6b-4723-94da-fadcc989ca34",
   "metadata": {},
   "source": [
    "# Exercice 25 "
   ]
  },
  {
   "cell_type": "code",
   "execution_count": 225,
   "id": "0a17cdc8-db3f-473a-b413-114fb40f6dac",
   "metadata": {},
   "outputs": [
    {
     "name": "stdout",
     "output_type": "stream",
     "text": [
      "[1 2]\n",
      "\n",
      "\n",
      "[-3  4]\n"
     ]
    }
   ],
   "source": [
    "v = np.array([1, 2])\n",
    "w = np.array([-3, 4])\n",
    "\n",
    "print(v)\n",
    "print(\"\\n\")\n",
    "print(w)"
   ]
  },
  {
   "cell_type": "code",
   "execution_count": 226,
   "id": "d7850865-8b83-42e7-827a-af3c5f18ace0",
   "metadata": {},
   "outputs": [
    {
     "name": "stdout",
     "output_type": "stream",
     "text": [
      "[-2  6]\n"
     ]
    }
   ],
   "source": [
    "somme = v + w\n",
    "print(somme)"
   ]
  },
  {
   "cell_type": "code",
   "execution_count": 227,
   "id": "f669da10-02df-4314-a79b-03f84e38d8f8",
   "metadata": {},
   "outputs": [
    {
     "name": "stdout",
     "output_type": "stream",
     "text": [
      "[ 7 -6]\n"
     ]
    }
   ],
   "source": [
    "produit = v - 2 * w\n",
    "print(produit)"
   ]
  },
  {
   "cell_type": "code",
   "execution_count": 228,
   "id": "1010ea29-1e38-46d0-912b-d3aeb64f3d8c",
   "metadata": {},
   "outputs": [
    {
     "name": "stdout",
     "output_type": "stream",
     "text": [
      "True\n"
     ]
    }
   ],
   "source": [
    "equal = np.array_equal(v+w,w+v)\n",
    "print(equal)"
   ]
  },
  {
   "cell_type": "code",
   "execution_count": 229,
   "id": "8f0de3d3-8dc5-4d51-b93c-631d0cc42db9",
   "metadata": {},
   "outputs": [],
   "source": [
    "# on veut verifier la distributivite maintenant"
   ]
  },
  {
   "cell_type": "code",
   "execution_count": 230,
   "id": "8c42d1ac-d4e3-4e71-93c2-054688cd59da",
   "metadata": {},
   "outputs": [
    {
     "name": "stdout",
     "output_type": "stream",
     "text": [
      "True\n"
     ]
    }
   ],
   "source": [
    "distributivite = np.array_equal(2 * (v + w), 2 * v + 2 * w )\n",
    "print(distributivite)"
   ]
  },
  {
   "cell_type": "code",
   "execution_count": 231,
   "id": "f0c74d50-a421-4838-bcab-390e37c32c17",
   "metadata": {},
   "outputs": [],
   "source": [
    "# mais si on avait fait le produit matricielle ?"
   ]
  },
  {
   "cell_type": "markdown",
   "id": "bdd27089-b686-4e9b-ba34-440c1de11f93",
   "metadata": {},
   "source": [
    "# Exercice 26 - Produit scalaire et produit vectorielle"
   ]
  },
  {
   "cell_type": "code",
   "execution_count": 232,
   "id": "86676d3b-beb0-4c06-8de3-21a4afdd5b17",
   "metadata": {},
   "outputs": [
    {
     "name": "stdout",
     "output_type": "stream",
     "text": [
      "u =  [1 2 3]\n",
      "v =  [4 5 6]\n"
     ]
    }
   ],
   "source": [
    "u = np.array([1,2,3])\n",
    "v = np.array([4,5,6])\n",
    "print(\"u = \", u)\n",
    "print(\"v = \", v)"
   ]
  },
  {
   "cell_type": "code",
   "execution_count": 233,
   "id": "e7751129-9a88-4743-9ffd-b65aa274f81d",
   "metadata": {},
   "outputs": [],
   "source": [
    "# on calcule le produit scalaire."
   ]
  },
  {
   "cell_type": "code",
   "execution_count": 234,
   "id": "5bc8ccdf-79ce-4508-bf55-37776ed22866",
   "metadata": {},
   "outputs": [
    {
     "name": "stdout",
     "output_type": "stream",
     "text": [
      "le produit scalaire vaut :  32\n"
     ]
    }
   ],
   "source": [
    "res = np.dot(u,v)\n",
    "print(\"le produit scalaire vaut : \", res)"
   ]
  },
  {
   "cell_type": "code",
   "execution_count": 235,
   "id": "e8c884ef-d0e8-4220-a827-fce1e790f1e6",
   "metadata": {},
   "outputs": [],
   "source": [
    "# le produit vectorielle aussi"
   ]
  },
  {
   "cell_type": "code",
   "execution_count": 236,
   "id": "73c8e85e-5bb5-471f-9bba-b34fa4013276",
   "metadata": {},
   "outputs": [
    {
     "name": "stdout",
     "output_type": "stream",
     "text": [
      "[-3  6 -3]\n"
     ]
    }
   ],
   "source": [
    "vectorielle = np.cross(u,v)\n",
    "print(vectorielle)"
   ]
  },
  {
   "cell_type": "code",
   "execution_count": null,
   "id": "a14809b8-8a4c-448c-a012-e1ea89b5c497",
   "metadata": {},
   "outputs": [],
   "source": [
    "print(\"on renvoie un vecteur\")"
   ]
  }
 ],
 "metadata": {
  "kernelspec": {
   "display_name": "Python 3 (ipykernel)",
   "language": "python",
   "name": "python3"
  },
  "language_info": {
   "codemirror_mode": {
    "name": "ipython",
    "version": 3
   },
   "file_extension": ".py",
   "mimetype": "text/x-python",
   "name": "python",
   "nbconvert_exporter": "python",
   "pygments_lexer": "ipython3",
   "version": "3.13.3"
  }
 },
 "nbformat": 4,
 "nbformat_minor": 5
}
